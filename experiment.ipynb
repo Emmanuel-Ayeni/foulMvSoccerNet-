{
 "cells": [
  {
   "cell_type": "markdown",
   "id": "ba9bd2dc-7148-4467-8192-55573ecca764",
   "metadata": {},
   "source": [
    "## Problem Understanding and Dataset Exploration"
   ]
  },
  {
   "cell_type": "code",
   "execution_count": 1,
   "id": "25c6cb54-676d-4d8f-aa62-187142d9d6a9",
   "metadata": {},
   "outputs": [],
   "source": [
    "# Libaries\n",
    "import os\n",
    "import zipfile\n",
    "import json\n",
    "import pandas as pd\n",
    "import SoccerNet"
   ]
  },
  {
   "cell_type": "code",
   "execution_count": null,
   "id": "ba0aa43a-5bf4-4850-b4e4-dbefebc9d1aa",
   "metadata": {},
   "outputs": [],
   "source": [
    "'''from SoccerNet.Downloader import SoccerNetDownloader\n",
    "\n",
    "# Initialize the downloader with your desired local directory\n",
    "mySoccerNetDownloader = SoccerNetDownloader(LocalDirectory=\"path/to/SoccerNet\")'''\n"
   ]
  },
  {
   "cell_type": "code",
   "execution_count": null,
   "id": "6d35a2ab-0b62-4c9c-b6a3-d600062c5099",
   "metadata": {},
   "outputs": [],
   "source": [
    "'''# Download labels and frames for training, validation, and test splits\n",
    "mySoccerNetDownloader.downloadGames(\n",
    "    files=[\"Labels-v3.json\", \"Frames-v3.zip\"],\n",
    "    split=[\"train\", \"valid\", \"test\"],\n",
    "    task=\"frames\"\n",
    ")'''\n"
   ]
  },
  {
   "cell_type": "code",
   "execution_count": null,
   "id": "5ca83d17-6a72-4354-9cd2-e29cf088cc82",
   "metadata": {},
   "outputs": [],
   "source": [
    "!ls\n"
   ]
  },
  {
   "cell_type": "code",
   "execution_count": null,
   "id": "50edf511-2791-4f86-8e45-18d08254f646",
   "metadata": {},
   "outputs": [],
   "source": [
    "# Define dataset path\n",
    "data_path = \"./SoccerNet/\"\n",
    "\n",
    "# Load annotations\n",
    "annotation_file = os.path.join(data_path, \"annotations.json\")\n",
    "with open(annotation_file, 'r') as f:\n",
    "    annotations = json.load(f)\n",
    "\n",
    "# Explore the annotations\n",
    "print(f\"Number of matches: {len(annotations['matches'])}\")\n",
    "print(f\"Sample annotation: {annotations['matches'][0]}\")"
   ]
  },
  {
   "cell_type": "code",
   "execution_count": null,
   "id": "13f725f7-cda8-4d7d-8233-8071a78a6fa8",
   "metadata": {},
   "outputs": [],
   "source": [
    "zip_path = r\"D:\\mentorship\\alfred\\VAR-project\\path\\to\\SoccerNet\\mvfouls\\train.zip\"\n",
    "extract_to = r\"D:\\mentorship\\alfred\\VAR-project\\SoccerNet_Extracted\""
   ]
  },
  {
   "cell_type": "code",
   "execution_count": null,
   "id": "e1177f4e-3753-480b-90b9-62000b8e4079",
   "metadata": {},
   "outputs": [],
   "source": [
    "# Extract Files\n",
    "with zipfile.ZipFile(zip_path, 'r') as zip_ref:\n",
    "    zip_ref.extractall(extract_to)\n",
    "print(f\"Files extract to: {extract_to}\")"
   ]
  },
  {
   "cell_type": "code",
   "execution_count": null,
   "id": "a0406543-d96e-473b-8ccc-341475c913ab",
   "metadata": {},
   "outputs": [],
   "source": [
    "!pip install opencv-python"
   ]
  },
  {
   "cell_type": "code",
   "execution_count": null,
   "id": "7f498ddf-bd5d-4b20-83f2-885a9bb0a6a2",
   "metadata": {},
   "outputs": [],
   "source": [
    "import cv2"
   ]
  },
  {
   "cell_type": "code",
   "execution_count": null,
   "id": "f172eaab-a7b1-4e39-b5f4-472b66fa4d6b",
   "metadata": {},
   "outputs": [],
   "source": [
    "import cv2\n",
    "video_path = os.path.join(extract_to, \"action_0.mp4\")\n",
    "cap = cv2.VideoCapture(video_path)\n",
    "\n",
    "while cap.isOpened():\n",
    "    ret, frame = cap.read()\n",
    "    if not ret:\n",
    "        break\n",
    "\n",
    "cap.release()\n",
    "cv2.destroyAllWindows()"
   ]
  },
  {
   "cell_type": "code",
   "execution_count": null,
   "id": "1a1745f9-28a2-49e4-88de-dda3b913e79d",
   "metadata": {},
   "outputs": [],
   "source": [
    "!ls D:\\mentorship\\alfred\\VAR-project\\SoccerNet_Extracted"
   ]
  },
  {
   "cell_type": "code",
   "execution_count": null,
   "id": "2cd1ae7f-30cb-4671-a302-68e38f6dd9c6",
   "metadata": {},
   "outputs": [],
   "source": [
    "!unzip D:\\mentorship\\alfred\\VAR-project\\path\\to\\SoccerNet\\mvfouls\\challenge.zip\\action_0\\clip_0"
   ]
  }
 ],
 "metadata": {
  "kernelspec": {
   "display_name": "Python 3 (ipykernel)",
   "language": "python",
   "name": "python3"
  },
  "language_info": {
   "codemirror_mode": {
    "name": "ipython",
    "version": 3
   },
   "file_extension": ".py",
   "mimetype": "text/x-python",
   "name": "python",
   "nbconvert_exporter": "python",
   "pygments_lexer": "ipython3",
   "version": "3.11.7"
  }
 },
 "nbformat": 4,
 "nbformat_minor": 5
}
