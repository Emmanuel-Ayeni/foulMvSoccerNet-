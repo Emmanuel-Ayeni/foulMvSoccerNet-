{
 "cells": [
  {
   "cell_type": "code",
   "execution_count": 1,
   "id": "3bc37bf9-15ce-4dc7-b8f6-8e97d34dff87",
   "metadata": {
    "execution": {
     "iopub.execute_input": "2025-02-18T20:23:50.119218Z",
     "iopub.status.busy": "2025-02-18T20:23:50.118923Z",
     "iopub.status.idle": "2025-02-18T20:25:18.049551Z",
     "shell.execute_reply": "2025-02-18T20:25:18.048897Z",
     "shell.execute_reply.started": "2025-02-18T20:23:50.119198Z"
    },
    "scrolled": true
   },
   "outputs": [
    {
     "name": "stdout",
     "output_type": "stream",
     "text": [
      "Collecting SoccerNet\n",
      "  Using cached SoccerNet-0.1.62-py3-none-any.whl.metadata (13 kB)\n",
      "Collecting tqdm (from SoccerNet)\n",
      "  Using cached tqdm-4.67.1-py3-none-any.whl.metadata (57 kB)\n",
      "Collecting scikit-video (from SoccerNet)\n",
      "  Using cached scikit_video-1.1.11-py2.py3-none-any.whl.metadata (1.1 kB)\n",
      "Requirement already satisfied: matplotlib in /opt/saturncloud/envs/saturn/lib/python3.11/site-packages (from SoccerNet) (3.9.2)\n",
      "Collecting google-measurement-protocol (from SoccerNet)\n",
      "  Using cached google_measurement_protocol-1.1.0-py2.py3-none-any.whl.metadata (845 bytes)\n",
      "Collecting pycocoevalcap (from SoccerNet)\n",
      "  Using cached pycocoevalcap-1.2-py3-none-any.whl.metadata (3.2 kB)\n",
      "Collecting huggingface_hub[cli] (from SoccerNet)\n",
      "  Using cached huggingface_hub-0.28.1-py3-none-any.whl.metadata (13 kB)\n",
      "Collecting boto3 (from SoccerNet)\n",
      "  Using cached boto3-1.36.22-py3-none-any.whl.metadata (6.7 kB)\n",
      "Collecting botocore<1.37.0,>=1.36.22 (from boto3->SoccerNet)\n",
      "  Using cached botocore-1.36.22-py3-none-any.whl.metadata (5.7 kB)\n",
      "Requirement already satisfied: jmespath<2.0.0,>=0.7.1 in /opt/saturncloud/envs/saturn/lib/python3.11/site-packages (from boto3->SoccerNet) (1.0.1)\n",
      "Collecting s3transfer<0.12.0,>=0.11.0 (from boto3->SoccerNet)\n",
      "  Using cached s3transfer-0.11.2-py3-none-any.whl.metadata (1.7 kB)\n",
      "Requirement already satisfied: requests<3.0a0,>=2.0 in /opt/saturncloud/envs/saturn/lib/python3.11/site-packages (from google-measurement-protocol->SoccerNet) (2.32.3)\n",
      "Collecting prices>=1.0.0 (from google-measurement-protocol->SoccerNet)\n",
      "  Using cached prices-1.1.1-py3-none-any.whl.metadata (2.8 kB)\n",
      "Requirement already satisfied: filelock in /opt/saturncloud/envs/saturn/lib/python3.11/site-packages (from huggingface_hub[cli]->SoccerNet) (3.16.1)\n",
      "Requirement already satisfied: fsspec>=2023.5.0 in /opt/saturncloud/envs/saturn/lib/python3.11/site-packages (from huggingface_hub[cli]->SoccerNet) (2024.10.0)\n",
      "Requirement already satisfied: packaging>=20.9 in /opt/saturncloud/envs/saturn/lib/python3.11/site-packages (from huggingface_hub[cli]->SoccerNet) (24.2)\n",
      "Requirement already satisfied: pyyaml>=5.1 in /opt/saturncloud/envs/saturn/lib/python3.11/site-packages (from huggingface_hub[cli]->SoccerNet) (6.0.2)\n",
      "Requirement already satisfied: typing-extensions>=3.7.4.3 in /opt/saturncloud/envs/saturn/lib/python3.11/site-packages (from huggingface_hub[cli]->SoccerNet) (4.12.2)\n",
      "Collecting InquirerPy==0.3.4 (from huggingface_hub[cli]->SoccerNet)\n",
      "  Using cached InquirerPy-0.3.4-py3-none-any.whl.metadata (8.1 kB)\n",
      "Collecting pfzy<0.4.0,>=0.3.1 (from InquirerPy==0.3.4->huggingface_hub[cli]->SoccerNet)\n",
      "  Using cached pfzy-0.3.4-py3-none-any.whl.metadata (4.9 kB)\n",
      "Requirement already satisfied: prompt-toolkit<4.0.0,>=3.0.1 in /opt/saturncloud/envs/saturn/lib/python3.11/site-packages (from InquirerPy==0.3.4->huggingface_hub[cli]->SoccerNet) (3.0.48)\n",
      "Requirement already satisfied: contourpy>=1.0.1 in /opt/saturncloud/envs/saturn/lib/python3.11/site-packages (from matplotlib->SoccerNet) (1.3.1)\n",
      "Requirement already satisfied: cycler>=0.10 in /opt/saturncloud/envs/saturn/lib/python3.11/site-packages (from matplotlib->SoccerNet) (0.12.1)\n",
      "Requirement already satisfied: fonttools>=4.22.0 in /opt/saturncloud/envs/saturn/lib/python3.11/site-packages (from matplotlib->SoccerNet) (4.55.0)\n",
      "Requirement already satisfied: kiwisolver>=1.3.1 in /opt/saturncloud/envs/saturn/lib/python3.11/site-packages (from matplotlib->SoccerNet) (1.4.7)\n",
      "Requirement already satisfied: numpy>=1.23 in /opt/saturncloud/envs/saturn/lib/python3.11/site-packages (from matplotlib->SoccerNet) (2.0.2)\n",
      "Requirement already satisfied: pillow>=8 in /opt/saturncloud/envs/saturn/lib/python3.11/site-packages (from matplotlib->SoccerNet) (11.0.0)\n",
      "Requirement already satisfied: pyparsing>=2.3.1 in /opt/saturncloud/envs/saturn/lib/python3.11/site-packages (from matplotlib->SoccerNet) (3.2.0)\n",
      "Requirement already satisfied: python-dateutil>=2.7 in /opt/saturncloud/envs/saturn/lib/python3.11/site-packages (from matplotlib->SoccerNet) (2.9.0.post0)\n",
      "Collecting pycocotools>=2.0.2 (from pycocoevalcap->SoccerNet)\n",
      "  Using cached pycocotools-2.0.8-cp311-cp311-manylinux_2_17_x86_64.manylinux2014_x86_64.whl.metadata (1.1 kB)\n",
      "Requirement already satisfied: scipy in /opt/saturncloud/envs/saturn/lib/python3.11/site-packages (from scikit-video->SoccerNet) (1.14.1)\n",
      "Requirement already satisfied: urllib3!=2.2.0,<3,>=1.25.4 in /opt/saturncloud/envs/saturn/lib/python3.11/site-packages (from botocore<1.37.0,>=1.36.22->boto3->SoccerNet) (2.2.3)\n",
      "Requirement already satisfied: babel>=2.5.0 in /opt/saturncloud/envs/saturn/lib/python3.11/site-packages (from prices>=1.0.0->google-measurement-protocol->SoccerNet) (2.16.0)\n",
      "Requirement already satisfied: six>=1.5 in /opt/saturncloud/envs/saturn/lib/python3.11/site-packages (from python-dateutil>=2.7->matplotlib->SoccerNet) (1.16.0)\n",
      "Requirement already satisfied: charset-normalizer<4,>=2 in /opt/saturncloud/envs/saturn/lib/python3.11/site-packages (from requests<3.0a0,>=2.0->google-measurement-protocol->SoccerNet) (3.4.0)\n",
      "Requirement already satisfied: idna<4,>=2.5 in /opt/saturncloud/envs/saturn/lib/python3.11/site-packages (from requests<3.0a0,>=2.0->google-measurement-protocol->SoccerNet) (3.10)\n",
      "Requirement already satisfied: certifi>=2017.4.17 in /opt/saturncloud/envs/saturn/lib/python3.11/site-packages (from requests<3.0a0,>=2.0->google-measurement-protocol->SoccerNet) (2024.8.30)\n",
      "Requirement already satisfied: wcwidth in /opt/saturncloud/envs/saturn/lib/python3.11/site-packages (from prompt-toolkit<4.0.0,>=3.0.1->InquirerPy==0.3.4->huggingface_hub[cli]->SoccerNet) (0.2.13)\n",
      "Using cached SoccerNet-0.1.62-py3-none-any.whl (86 kB)\n",
      "Using cached boto3-1.36.22-py3-none-any.whl (139 kB)\n",
      "Using cached google_measurement_protocol-1.1.0-py2.py3-none-any.whl (5.9 kB)\n",
      "Using cached InquirerPy-0.3.4-py3-none-any.whl (67 kB)\n",
      "Using cached tqdm-4.67.1-py3-none-any.whl (78 kB)\n",
      "Using cached pycocoevalcap-1.2-py3-none-any.whl (104.3 MB)\n",
      "Using cached scikit_video-1.1.11-py2.py3-none-any.whl (2.3 MB)\n",
      "Using cached botocore-1.36.22-py3-none-any.whl (13.4 MB)\n",
      "Using cached prices-1.1.1-py3-none-any.whl (9.5 kB)\n",
      "Using cached pycocotools-2.0.8-cp311-cp311-manylinux_2_17_x86_64.manylinux2014_x86_64.whl (458 kB)\n",
      "Using cached s3transfer-0.11.2-py3-none-any.whl (84 kB)\n",
      "Using cached huggingface_hub-0.28.1-py3-none-any.whl (464 kB)\n",
      "Using cached pfzy-0.3.4-py3-none-any.whl (8.5 kB)\n",
      "Installing collected packages: tqdm, prices, pfzy, scikit-video, InquirerPy, huggingface_hub, google-measurement-protocol, botocore, s3transfer, pycocotools, pycocoevalcap, boto3, SoccerNet\n",
      "  Attempting uninstall: botocore\n",
      "    Found existing installation: botocore 1.35.36\n",
      "    Uninstalling botocore-1.35.36:\n",
      "      Successfully uninstalled botocore-1.35.36\n",
      "\u001b[31mERROR: pip's dependency resolver does not currently take into account all the packages that are installed. This behaviour is the source of the following dependency conflicts.\n",
      "aiobotocore 2.15.2 requires botocore<1.35.37,>=1.35.16, but you have botocore 1.36.22 which is incompatible.\u001b[0m\u001b[31m\n",
      "\u001b[0mSuccessfully installed InquirerPy-0.3.4 SoccerNet-0.1.62 boto3-1.36.22 botocore-1.36.22 google-measurement-protocol-1.1.0 huggingface_hub-0.28.1 pfzy-0.3.4 prices-1.1.1 pycocoevalcap-1.2 pycocotools-2.0.8 s3transfer-0.11.2 scikit-video-1.1.11 tqdm-4.67.1\n",
      "Collecting torch\n",
      "  Using cached torch-2.6.0-cp311-cp311-manylinux1_x86_64.whl.metadata (28 kB)\n",
      "Collecting torchvision\n",
      "  Using cached torchvision-0.21.0-cp311-cp311-manylinux1_x86_64.whl.metadata (6.1 kB)\n",
      "Requirement already satisfied: filelock in /opt/saturncloud/envs/saturn/lib/python3.11/site-packages (from torch) (3.16.1)\n",
      "Requirement already satisfied: typing-extensions>=4.10.0 in /opt/saturncloud/envs/saturn/lib/python3.11/site-packages (from torch) (4.12.2)\n",
      "Collecting networkx (from torch)\n",
      "  Using cached networkx-3.4.2-py3-none-any.whl.metadata (6.3 kB)\n",
      "Requirement already satisfied: jinja2 in /opt/saturncloud/envs/saturn/lib/python3.11/site-packages (from torch) (3.1.4)\n",
      "Requirement already satisfied: fsspec in /opt/saturncloud/envs/saturn/lib/python3.11/site-packages (from torch) (2024.10.0)\n",
      "Collecting nvidia-cuda-nvrtc-cu12==12.4.127 (from torch)\n",
      "  Using cached nvidia_cuda_nvrtc_cu12-12.4.127-py3-none-manylinux2014_x86_64.whl.metadata (1.5 kB)\n",
      "Collecting nvidia-cuda-runtime-cu12==12.4.127 (from torch)\n",
      "  Using cached nvidia_cuda_runtime_cu12-12.4.127-py3-none-manylinux2014_x86_64.whl.metadata (1.5 kB)\n",
      "Collecting nvidia-cuda-cupti-cu12==12.4.127 (from torch)\n",
      "  Using cached nvidia_cuda_cupti_cu12-12.4.127-py3-none-manylinux2014_x86_64.whl.metadata (1.6 kB)\n",
      "Collecting nvidia-cudnn-cu12==9.1.0.70 (from torch)\n",
      "  Using cached nvidia_cudnn_cu12-9.1.0.70-py3-none-manylinux2014_x86_64.whl.metadata (1.6 kB)\n",
      "Collecting nvidia-cublas-cu12==12.4.5.8 (from torch)\n",
      "  Using cached nvidia_cublas_cu12-12.4.5.8-py3-none-manylinux2014_x86_64.whl.metadata (1.5 kB)\n",
      "Collecting nvidia-cufft-cu12==11.2.1.3 (from torch)\n",
      "  Using cached nvidia_cufft_cu12-11.2.1.3-py3-none-manylinux2014_x86_64.whl.metadata (1.5 kB)\n",
      "Collecting nvidia-curand-cu12==10.3.5.147 (from torch)\n",
      "  Using cached nvidia_curand_cu12-10.3.5.147-py3-none-manylinux2014_x86_64.whl.metadata (1.5 kB)\n",
      "Collecting nvidia-cusolver-cu12==11.6.1.9 (from torch)\n",
      "  Using cached nvidia_cusolver_cu12-11.6.1.9-py3-none-manylinux2014_x86_64.whl.metadata (1.6 kB)\n",
      "Collecting nvidia-cusparse-cu12==12.3.1.170 (from torch)\n",
      "  Using cached nvidia_cusparse_cu12-12.3.1.170-py3-none-manylinux2014_x86_64.whl.metadata (1.6 kB)\n",
      "Collecting nvidia-cusparselt-cu12==0.6.2 (from torch)\n",
      "  Using cached nvidia_cusparselt_cu12-0.6.2-py3-none-manylinux2014_x86_64.whl.metadata (6.8 kB)\n",
      "Collecting nvidia-nccl-cu12==2.21.5 (from torch)\n",
      "  Using cached nvidia_nccl_cu12-2.21.5-py3-none-manylinux2014_x86_64.whl.metadata (1.8 kB)\n",
      "Collecting nvidia-nvtx-cu12==12.4.127 (from torch)\n",
      "  Using cached nvidia_nvtx_cu12-12.4.127-py3-none-manylinux2014_x86_64.whl.metadata (1.7 kB)\n",
      "Collecting nvidia-nvjitlink-cu12==12.4.127 (from torch)\n",
      "  Using cached nvidia_nvjitlink_cu12-12.4.127-py3-none-manylinux2014_x86_64.whl.metadata (1.5 kB)\n",
      "Collecting triton==3.2.0 (from torch)\n",
      "  Using cached triton-3.2.0-cp311-cp311-manylinux_2_17_x86_64.manylinux2014_x86_64.whl.metadata (1.4 kB)\n",
      "Collecting sympy==1.13.1 (from torch)\n",
      "  Using cached sympy-1.13.1-py3-none-any.whl.metadata (12 kB)\n",
      "Collecting mpmath<1.4,>=1.1.0 (from sympy==1.13.1->torch)\n",
      "  Using cached mpmath-1.3.0-py3-none-any.whl.metadata (8.6 kB)\n",
      "Requirement already satisfied: numpy in /opt/saturncloud/envs/saturn/lib/python3.11/site-packages (from torchvision) (2.0.2)\n",
      "Requirement already satisfied: pillow!=8.3.*,>=5.3.0 in /opt/saturncloud/envs/saturn/lib/python3.11/site-packages (from torchvision) (11.0.0)\n",
      "Requirement already satisfied: MarkupSafe>=2.0 in /opt/saturncloud/envs/saturn/lib/python3.11/site-packages (from jinja2->torch) (3.0.2)\n",
      "Using cached torch-2.6.0-cp311-cp311-manylinux1_x86_64.whl (766.7 MB)\n",
      "Using cached nvidia_cublas_cu12-12.4.5.8-py3-none-manylinux2014_x86_64.whl (363.4 MB)\n",
      "Using cached nvidia_cuda_cupti_cu12-12.4.127-py3-none-manylinux2014_x86_64.whl (13.8 MB)\n",
      "Using cached nvidia_cuda_nvrtc_cu12-12.4.127-py3-none-manylinux2014_x86_64.whl (24.6 MB)\n",
      "Using cached nvidia_cuda_runtime_cu12-12.4.127-py3-none-manylinux2014_x86_64.whl (883 kB)\n",
      "Using cached nvidia_cudnn_cu12-9.1.0.70-py3-none-manylinux2014_x86_64.whl (664.8 MB)\n",
      "Using cached nvidia_cufft_cu12-11.2.1.3-py3-none-manylinux2014_x86_64.whl (211.5 MB)\n",
      "Using cached nvidia_curand_cu12-10.3.5.147-py3-none-manylinux2014_x86_64.whl (56.3 MB)\n",
      "Using cached nvidia_cusolver_cu12-11.6.1.9-py3-none-manylinux2014_x86_64.whl (127.9 MB)\n",
      "Using cached nvidia_cusparse_cu12-12.3.1.170-py3-none-manylinux2014_x86_64.whl (207.5 MB)\n",
      "Using cached nvidia_cusparselt_cu12-0.6.2-py3-none-manylinux2014_x86_64.whl (150.1 MB)\n",
      "Using cached nvidia_nccl_cu12-2.21.5-py3-none-manylinux2014_x86_64.whl (188.7 MB)\n",
      "Using cached nvidia_nvjitlink_cu12-12.4.127-py3-none-manylinux2014_x86_64.whl (21.1 MB)\n",
      "Using cached nvidia_nvtx_cu12-12.4.127-py3-none-manylinux2014_x86_64.whl (99 kB)\n",
      "Using cached sympy-1.13.1-py3-none-any.whl (6.2 MB)\n",
      "Using cached triton-3.2.0-cp311-cp311-manylinux_2_17_x86_64.manylinux2014_x86_64.whl (253.2 MB)\n",
      "Using cached torchvision-0.21.0-cp311-cp311-manylinux1_x86_64.whl (7.2 MB)\n",
      "Using cached networkx-3.4.2-py3-none-any.whl (1.7 MB)\n",
      "Using cached mpmath-1.3.0-py3-none-any.whl (536 kB)\n",
      "Installing collected packages: triton, nvidia-cusparselt-cu12, mpmath, sympy, nvidia-nvtx-cu12, nvidia-nvjitlink-cu12, nvidia-nccl-cu12, nvidia-curand-cu12, nvidia-cufft-cu12, nvidia-cuda-runtime-cu12, nvidia-cuda-nvrtc-cu12, nvidia-cuda-cupti-cu12, nvidia-cublas-cu12, networkx, nvidia-cusparse-cu12, nvidia-cudnn-cu12, nvidia-cusolver-cu12, torch, torchvision\n",
      "Successfully installed mpmath-1.3.0 networkx-3.4.2 nvidia-cublas-cu12-12.4.5.8 nvidia-cuda-cupti-cu12-12.4.127 nvidia-cuda-nvrtc-cu12-12.4.127 nvidia-cuda-runtime-cu12-12.4.127 nvidia-cudnn-cu12-9.1.0.70 nvidia-cufft-cu12-11.2.1.3 nvidia-curand-cu12-10.3.5.147 nvidia-cusolver-cu12-11.6.1.9 nvidia-cusparse-cu12-12.3.1.170 nvidia-cusparselt-cu12-0.6.2 nvidia-nccl-cu12-2.21.5 nvidia-nvjitlink-cu12-12.4.127 nvidia-nvtx-cu12-12.4.127 sympy-1.13.1 torch-2.6.0 torchvision-0.21.0 triton-3.2.0\n",
      "Collecting pyav\n",
      "  Using cached pyav-14.1.0-cp311-cp311-manylinux_2_17_x86_64.manylinux2014_x86_64.whl.metadata (2.3 kB)\n",
      "Using cached pyav-14.1.0-cp311-cp311-manylinux_2_17_x86_64.manylinux2014_x86_64.whl (35.7 MB)\n",
      "Installing collected packages: pyav\n",
      "Successfully installed pyav-14.1.0\n"
     ]
    }
   ],
   "source": [
    "!pip install SoccerNet\n",
    "!pip install torch torchvision\n",
    "!pip install pyav"
   ]
  },
  {
   "cell_type": "code",
   "execution_count": null,
   "id": "34e3634e-da23-4efe-83dc-2b8494687610",
   "metadata": {},
   "outputs": [],
   "source": [
    "from SoccerNet.Downloader import SoccerNetDownloader as SNdl\n",
    "#import socket\n",
    "\n",
    "# Increase the default timeout\n",
    "#socket.setdefaulttimeout(3600)  # Set timeout to 60 minutes\n",
    "\n",
    "from SoccerNet.Downloader import SoccerNetDownloader as SNdl\n",
    "mySNdl = SNdl(LocalDirectory=\"path/to/SoccerNet\")\n",
    "mySNdl.downloadDataTask(task=\"mvfouls\", split=[\"train\",\"valid\",\"test\",\"challenge\"], password=\"s0cc3rn3t\")"
   ]
  },
  {
   "cell_type": "code",
   "execution_count": 9,
   "id": "4a694185-78a3-4822-bf4e-6247dd11bca3",
   "metadata": {
    "execution": {
     "iopub.execute_input": "2025-02-18T20:30:30.504414Z",
     "iopub.status.busy": "2025-02-18T20:30:30.504085Z",
     "iopub.status.idle": "2025-02-18T20:30:30.507307Z",
     "shell.execute_reply": "2025-02-18T20:30:30.506703Z",
     "shell.execute_reply.started": "2025-02-18T20:30:30.504393Z"
    }
   },
   "outputs": [],
   "source": [
    "zip_path = r\"./path/to/SoccerNet/mvfouls/train.zip\"\n",
    "extract_to = r\"./VAR-project/SoccerNet_Extracted\""
   ]
  },
  {
   "cell_type": "code",
   "execution_count": 2,
   "id": "a30604e3-42ac-4c94-8d26-a2e998c8167b",
   "metadata": {
    "execution": {
     "iopub.execute_input": "2025-02-18T20:25:18.052605Z",
     "iopub.status.busy": "2025-02-18T20:25:18.052354Z",
     "iopub.status.idle": "2025-02-18T20:25:18.657961Z",
     "shell.execute_reply": "2025-02-18T20:25:18.657306Z",
     "shell.execute_reply.started": "2025-02-18T20:25:18.052585Z"
    }
   },
   "outputs": [
    {
     "name": "stdout",
     "output_type": "stream",
     "text": [
      "total 3246236\n",
      " 240228 -rw-rw-r-- 1 jovyan jovyan  245990818 Feb 18 19:16 challenge.zip\n",
      " 261916 -rw-rw-r-- 1 jovyan jovyan  268201537 Feb 18 19:15 test.zip\n",
      "2401788 -rw-rw-r-- 1 jovyan jovyan 2459423137 Feb 18 19:14 train.zip\n",
      " 342304 -rw-rw-r-- 1 jovyan jovyan  350517090 Feb 18 19:15 valid.zip\n"
     ]
    }
   ],
   "source": [
    "!ls -ls path/to/SoccerNet/mvfouls/\n"
   ]
  },
  {
   "cell_type": "code",
   "execution_count": null,
   "id": "d61351c7-3baa-41ee-92f3-2a265b92f5d5",
   "metadata": {},
   "outputs": [],
   "source": [
    "# Extract File\n",
    "import zipfile\n",
    "with zipfile.ZipFile(zip_path, 'r') as zip_ref:\n",
    "    zip_ref.extractall(extract_to)\n",
    "print(f\"Files extract to: {extract_to}\")"
   ]
  },
  {
   "cell_type": "code",
   "execution_count": null,
   "id": "780ef14f-698a-4697-bc73-1f91fdfcf2d6",
   "metadata": {},
   "outputs": [],
   "source": [
    "!ls -ls VAR-project/SoccerNet_Extracted"
   ]
  },
  {
   "cell_type": "code",
   "execution_count": null,
   "id": "ac23d8bd-d309-4afc-80ab-5c616f2ea165",
   "metadata": {},
   "outputs": [],
   "source": [
    "!ls -ls path/to/SoccerNet/mvfouls/"
   ]
  },
  {
   "cell_type": "code",
   "execution_count": 3,
   "id": "0eb45afc-3196-4e69-b7d7-a91d48b551dc",
   "metadata": {
    "execution": {
     "iopub.execute_input": "2025-02-18T20:26:19.347941Z",
     "iopub.status.busy": "2025-02-18T20:26:19.347480Z",
     "iopub.status.idle": "2025-02-18T20:26:19.967643Z",
     "shell.execute_reply": "2025-02-18T20:26:19.966875Z",
     "shell.execute_reply.started": "2025-02-18T20:26:19.347905Z"
    }
   },
   "outputs": [],
   "source": [
    "!rm -r  path/to/SoccerNet/mvfouls/*.zip"
   ]
  },
  {
   "cell_type": "code",
   "execution_count": 4,
   "id": "82054fb9-bfee-47e3-b236-a85bf8f2794f",
   "metadata": {
    "execution": {
     "iopub.execute_input": "2025-02-18T20:26:32.159535Z",
     "iopub.status.busy": "2025-02-18T20:26:32.159195Z",
     "iopub.status.idle": "2025-02-18T20:26:32.770175Z",
     "shell.execute_reply": "2025-02-18T20:26:32.769511Z",
     "shell.execute_reply.started": "2025-02-18T20:26:32.159510Z"
    }
   },
   "outputs": [
    {
     "name": "stdout",
     "output_type": "stream",
     "text": [
      "total 0\n"
     ]
    }
   ],
   "source": [
    "!ls -ls path/to/SoccerNet/mvfouls/"
   ]
  },
  {
   "cell_type": "code",
   "execution_count": 5,
   "id": "4ea5c347-d456-4256-9b3a-8cf9539a2d16",
   "metadata": {
    "execution": {
     "iopub.execute_input": "2025-02-18T20:29:02.128813Z",
     "iopub.status.busy": "2025-02-18T20:29:02.128458Z",
     "iopub.status.idle": "2025-02-18T20:29:05.199720Z",
     "shell.execute_reply": "2025-02-18T20:29:05.199069Z",
     "shell.execute_reply.started": "2025-02-18T20:29:02.128789Z"
    }
   },
   "outputs": [
    {
     "name": "stdout",
     "output_type": "stream",
     "text": [
      "Collecting opencv-python\n",
      "  Downloading opencv_python-4.11.0.86-cp37-abi3-manylinux_2_17_x86_64.manylinux2014_x86_64.whl.metadata (20 kB)\n",
      "Requirement already satisfied: numpy>=1.21.2 in /opt/saturncloud/envs/saturn/lib/python3.11/site-packages (from opencv-python) (2.0.2)\n",
      "Downloading opencv_python-4.11.0.86-cp37-abi3-manylinux_2_17_x86_64.manylinux2014_x86_64.whl (63.0 MB)\n",
      "\u001b[2K   \u001b[90m━━━━━━━━━━━━━━━━━━━━━━━━━━━━━━━━━━━━━━━━\u001b[0m \u001b[32m63.0/63.0 MB\u001b[0m \u001b[31m179.1 MB/s\u001b[0m eta \u001b[36m0:00:00\u001b[0ma \u001b[36m0:00:01\u001b[0m\n",
      "\u001b[?25hInstalling collected packages: opencv-python\n",
      "Successfully installed opencv-python-4.11.0.86\n"
     ]
    }
   ],
   "source": [
    "!pip install opencv-python"
   ]
  },
  {
   "cell_type": "code",
   "execution_count": 6,
   "id": "89ddc300-26ab-4ca7-a1ae-4a7c22d399fa",
   "metadata": {
    "execution": {
     "iopub.execute_input": "2025-02-18T20:29:11.411576Z",
     "iopub.status.busy": "2025-02-18T20:29:11.411229Z",
     "iopub.status.idle": "2025-02-18T20:29:11.649896Z",
     "shell.execute_reply": "2025-02-18T20:29:11.649331Z",
     "shell.execute_reply.started": "2025-02-18T20:29:11.411552Z"
    }
   },
   "outputs": [],
   "source": [
    "import cv2"
   ]
  },
  {
   "cell_type": "code",
   "execution_count": 10,
   "id": "99289a43-58bd-46fb-9aa3-73fee847880a",
   "metadata": {
    "execution": {
     "iopub.execute_input": "2025-02-18T20:30:38.260370Z",
     "iopub.status.busy": "2025-02-18T20:30:38.260052Z",
     "iopub.status.idle": "2025-02-18T20:30:38.264471Z",
     "shell.execute_reply": "2025-02-18T20:30:38.263912Z",
     "shell.execute_reply.started": "2025-02-18T20:30:38.260351Z"
    }
   },
   "outputs": [],
   "source": [
    "import os\n",
    "video_path = os.path.join(extract_to, \"action_0.mp4\")\n",
    "cap = cv2.VideoCapture(video_path)\n",
    "\n",
    "while cap.isOpened():\n",
    "    ret, frame = cap.read()\n",
    "    if not ret:\n",
    "        break\n",
    "\n",
    "cap.release()\n",
    "cv2.destroyAllWindows()"
   ]
  },
  {
   "cell_type": "code",
   "execution_count": null,
   "id": "103d4298-9a87-43d7-abbc-a077afc80c1a",
   "metadata": {},
   "outputs": [],
   "source": []
  }
 ],
 "metadata": {
  "kernelspec": {
   "display_name": "saturn (Python 3)",
   "language": "python",
   "name": "python3"
  },
  "language_info": {
   "codemirror_mode": {
    "name": "ipython",
    "version": 3
   },
   "file_extension": ".py",
   "mimetype": "text/x-python",
   "name": "python",
   "nbconvert_exporter": "python",
   "pygments_lexer": "ipython3",
   "version": "3.11.10"
  }
 },
 "nbformat": 4,
 "nbformat_minor": 5
}
