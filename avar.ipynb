{
  "nbformat": 4,
  "nbformat_minor": 0,
  "metadata": {
    "colab": {
      "provenance": [],
      "authorship_tag": "ABX9TyOeO4q3ePgWfpRTy5xlleJY",
      "include_colab_link": true
    },
    "kernelspec": {
      "name": "python3",
      "display_name": "Python 3"
    },
    "language_info": {
      "name": "python"
    }
  },
  "cells": [
    {
      "cell_type": "markdown",
      "metadata": {
        "id": "view-in-github",
        "colab_type": "text"
      },
      "source": [
        "<a href=\"https://colab.research.google.com/github/Emmanuel-Ayeni/foulMvSoccerNet-/blob/main/avar.ipynb\" target=\"_parent\"><img src=\"https://colab.research.google.com/assets/colab-badge.svg\" alt=\"Open In Colab\"/></a>"
      ]
    },
    {
      "cell_type": "code",
      "execution_count": 5,
      "metadata": {
        "colab": {
          "base_uri": "https://localhost:8080/"
        },
        "id": "ry8tu7KfxEtb",
        "outputId": "2245980e-fcc9-4490-a7f3-b04ed8fe92ae"
      },
      "outputs": [
        {
          "output_type": "stream",
          "name": "stdout",
          "text": [
            "Requirement already satisfied: soccernet in /usr/local/lib/python3.11/dist-packages (0.1.62)\n",
            "Requirement already satisfied: tqdm in /usr/local/lib/python3.11/dist-packages (from soccernet) (4.67.1)\n",
            "Requirement already satisfied: scikit-video in /usr/local/lib/python3.11/dist-packages (from soccernet) (1.1.11)\n",
            "Requirement already satisfied: matplotlib in /usr/local/lib/python3.11/dist-packages (from soccernet) (3.10.0)\n",
            "Requirement already satisfied: google-measurement-protocol in /usr/local/lib/python3.11/dist-packages (from soccernet) (1.1.0)\n",
            "Requirement already satisfied: pycocoevalcap in /usr/local/lib/python3.11/dist-packages (from soccernet) (1.2)\n",
            "Requirement already satisfied: huggingface_hub[cli] in /usr/local/lib/python3.11/dist-packages (from soccernet) (0.28.1)\n",
            "Requirement already satisfied: boto3 in /usr/local/lib/python3.11/dist-packages (from soccernet) (1.37.0)\n",
            "Requirement already satisfied: botocore<1.38.0,>=1.37.0 in /usr/local/lib/python3.11/dist-packages (from boto3->soccernet) (1.37.0)\n",
            "Requirement already satisfied: jmespath<2.0.0,>=0.7.1 in /usr/local/lib/python3.11/dist-packages (from boto3->soccernet) (1.0.1)\n",
            "Requirement already satisfied: s3transfer<0.12.0,>=0.11.0 in /usr/local/lib/python3.11/dist-packages (from boto3->soccernet) (0.11.2)\n",
            "Requirement already satisfied: requests<3.0a0,>=2.0 in /usr/local/lib/python3.11/dist-packages (from google-measurement-protocol->soccernet) (2.32.3)\n",
            "Requirement already satisfied: prices>=1.0.0 in /usr/local/lib/python3.11/dist-packages (from google-measurement-protocol->soccernet) (1.1.1)\n",
            "Requirement already satisfied: filelock in /usr/local/lib/python3.11/dist-packages (from huggingface_hub[cli]->soccernet) (3.17.0)\n",
            "Requirement already satisfied: fsspec>=2023.5.0 in /usr/local/lib/python3.11/dist-packages (from huggingface_hub[cli]->soccernet) (2024.10.0)\n",
            "Requirement already satisfied: packaging>=20.9 in /usr/local/lib/python3.11/dist-packages (from huggingface_hub[cli]->soccernet) (24.2)\n",
            "Requirement already satisfied: pyyaml>=5.1 in /usr/local/lib/python3.11/dist-packages (from huggingface_hub[cli]->soccernet) (6.0.2)\n",
            "Requirement already satisfied: typing-extensions>=3.7.4.3 in /usr/local/lib/python3.11/dist-packages (from huggingface_hub[cli]->soccernet) (4.12.2)\n",
            "Requirement already satisfied: InquirerPy==0.3.4 in /usr/local/lib/python3.11/dist-packages (from huggingface_hub[cli]->soccernet) (0.3.4)\n",
            "Requirement already satisfied: pfzy<0.4.0,>=0.3.1 in /usr/local/lib/python3.11/dist-packages (from InquirerPy==0.3.4->huggingface_hub[cli]->soccernet) (0.3.4)\n",
            "Requirement already satisfied: prompt-toolkit<4.0.0,>=3.0.1 in /usr/local/lib/python3.11/dist-packages (from InquirerPy==0.3.4->huggingface_hub[cli]->soccernet) (3.0.50)\n",
            "Requirement already satisfied: contourpy>=1.0.1 in /usr/local/lib/python3.11/dist-packages (from matplotlib->soccernet) (1.3.1)\n",
            "Requirement already satisfied: cycler>=0.10 in /usr/local/lib/python3.11/dist-packages (from matplotlib->soccernet) (0.12.1)\n",
            "Requirement already satisfied: fonttools>=4.22.0 in /usr/local/lib/python3.11/dist-packages (from matplotlib->soccernet) (4.56.0)\n",
            "Requirement already satisfied: kiwisolver>=1.3.1 in /usr/local/lib/python3.11/dist-packages (from matplotlib->soccernet) (1.4.8)\n",
            "Requirement already satisfied: numpy>=1.23 in /usr/local/lib/python3.11/dist-packages (from matplotlib->soccernet) (1.26.4)\n",
            "Requirement already satisfied: pillow>=8 in /usr/local/lib/python3.11/dist-packages (from matplotlib->soccernet) (11.1.0)\n",
            "Requirement already satisfied: pyparsing>=2.3.1 in /usr/local/lib/python3.11/dist-packages (from matplotlib->soccernet) (3.2.1)\n",
            "Requirement already satisfied: python-dateutil>=2.7 in /usr/local/lib/python3.11/dist-packages (from matplotlib->soccernet) (2.8.2)\n",
            "Requirement already satisfied: pycocotools>=2.0.2 in /usr/local/lib/python3.11/dist-packages (from pycocoevalcap->soccernet) (2.0.8)\n",
            "Requirement already satisfied: scipy in /usr/local/lib/python3.11/dist-packages (from scikit-video->soccernet) (1.13.1)\n",
            "Requirement already satisfied: urllib3!=2.2.0,<3,>=1.25.4 in /usr/local/lib/python3.11/dist-packages (from botocore<1.38.0,>=1.37.0->boto3->soccernet) (2.3.0)\n",
            "Requirement already satisfied: babel>=2.5.0 in /usr/local/lib/python3.11/dist-packages (from prices>=1.0.0->google-measurement-protocol->soccernet) (2.17.0)\n",
            "Requirement already satisfied: six>=1.5 in /usr/local/lib/python3.11/dist-packages (from python-dateutil>=2.7->matplotlib->soccernet) (1.17.0)\n",
            "Requirement already satisfied: charset-normalizer<4,>=2 in /usr/local/lib/python3.11/dist-packages (from requests<3.0a0,>=2.0->google-measurement-protocol->soccernet) (3.4.1)\n",
            "Requirement already satisfied: idna<4,>=2.5 in /usr/local/lib/python3.11/dist-packages (from requests<3.0a0,>=2.0->google-measurement-protocol->soccernet) (3.10)\n",
            "Requirement already satisfied: certifi>=2017.4.17 in /usr/local/lib/python3.11/dist-packages (from requests<3.0a0,>=2.0->google-measurement-protocol->soccernet) (2025.1.31)\n",
            "Requirement already satisfied: wcwidth in /usr/local/lib/python3.11/dist-packages (from prompt-toolkit<4.0.0,>=3.0.1->InquirerPy==0.3.4->huggingface_hub[cli]->soccernet) (0.2.13)\n"
          ]
        }
      ],
      "source": [
        "!pip install soccernet\n",
        "# Libaries\n",
        "import os\n",
        "import zipfile\n",
        "import json\n",
        "import pandas as pd\n",
        "import SoccerNet"
      ]
    },
    {
      "cell_type": "code",
      "source": [
        "from SoccerNet.Downloader import SoccerNetDownloader as SNdl\n",
        "mySNdl = SNdl(LocalDirectory=\"path/to/SoccerNet\")\n",
        "mySNdl.downloadDataTask(task=\"mvfouls\", split=[\"train\",\"valid\",\"test\",\"challenge\"], password=\"s0cc3rn3t\")"
      ],
      "metadata": {
        "colab": {
          "base_uri": "https://localhost:8080/"
        },
        "id": "AMpkQaK3y34H",
        "outputId": "83b53c9f-1ae4-4bcb-9a25-18c94b408d81"
      },
      "execution_count": 7,
      "outputs": [
        {
          "output_type": "stream",
          "name": "stderr",
          "text": [
            "Downloading path/to/SoccerNet/mvfouls/train.zip...: : 2.46GiB [03:49, 10.7MiB/s]                         \n",
            "Downloading path/to/SoccerNet/mvfouls/valid.zip...: : 351MiB [00:34, 10.0MiB/s]                        \n",
            "Downloading path/to/SoccerNet/mvfouls/test.zip...: : 268MiB [14:07, 316kiB/s]                        \n",
            "Downloading path/to/SoccerNet/mvfouls/challenge.zip...: : 246MiB [12:09, 337kiB/s]                        \n"
          ]
        }
      ]
    },
    {
      "cell_type": "code",
      "source": [
        "!ls path/to/SoccerNet/mvfouls/"
      ],
      "metadata": {
        "colab": {
          "base_uri": "https://localhost:8080/"
        },
        "id": "nKFYW53D0Lyq",
        "outputId": "ef5eab61-d75b-4071-f1c1-9469a9faaf53"
      },
      "execution_count": 30,
      "outputs": [
        {
          "output_type": "stream",
          "name": "stdout",
          "text": [
            "challenge.zip  test.zip  train.zip  valid.zip\n"
          ]
        }
      ]
    },
    {
      "cell_type": "code",
      "source": [],
      "metadata": {
        "id": "h15cDlew2NWA"
      },
      "execution_count": null,
      "outputs": []
    },
    {
      "cell_type": "code",
      "source": [],
      "metadata": {
        "id": "6si6CXQmKke8"
      },
      "execution_count": null,
      "outputs": []
    },
    {
      "cell_type": "code",
      "source": [
        "'''from google.colab import drive\n",
        "def extract_zip_files(zip_dir, extract_to):\n",
        "    \"\"\"\n",
        "    Extracts all files from a zip archive.\n",
        "\n",
        "    Args:\n",
        "        zip_path (str): The path to the zip file.\n",
        "        extract_to (str): The directory to extract the files to.\n",
        "    \"\"\"\n",
        "    if not os.path.exists(extract_to):\n",
        "      os.makedirs(extract_to)\n",
        "\n",
        "    try:\n",
        "        for filename in os.listdir(zip_dir):\n",
        "          if filename.endswith('.zip'):\n",
        "            zip_filepath = os.path.join(zip_dir, filename)\n",
        "            print(f\"Extracting {filename}...\")\n",
        "\n",
        "            with zipfile.ZipFile(zip_filepath, 'r') as zip_ref:\n",
        "              zip_ref.extractall(extract_to)\n",
        "            print(f\"Extracted {filename} to {extract_to}\")\n",
        "\n",
        "    except Exception as e:\n",
        "      print(f\"Error during extraction: {e}\")'''\n"
      ],
      "metadata": {
        "id": "OVRnK6CV2Sj9"
      },
      "execution_count": 44,
      "outputs": []
    },
    {
      "cell_type": "code",
      "source": [
        "def extract_zip_files_to_subdirs(zip_dir, base_extract_dir):\n",
        "    \"\"\"\n",
        "    Extracts each zip file in zip_dir to a subdirectory\n",
        "    named after the zip file (without the .zip extension)\n",
        "    within base_extract_dir.  No files are extracted directly\n",
        "    to base_extract_dir.\n",
        "    \"\"\"\n",
        "\n",
        "    try:\n",
        "        for filename in os.listdir(zip_dir):\n",
        "            if filename.endswith('.zip'):\n",
        "                zip_filepath = os.path.join(zip_dir, filename)\n",
        "                subdir_name = os.path.splitext(filename)[0]  # Name from filename\n",
        "                extract_to = os.path.join(base_extract_dir, subdir_name)\n",
        "\n",
        "                # Create the base directory if it doesn't exist.\n",
        "                if not os.path.exists(base_extract_dir):\n",
        "                    os.makedirs(base_extract_dir)\n",
        "\n",
        "                if not os.path.exists(extract_to):\n",
        "                    os.makedirs(extract_to)  # Create subdir if it doesn't exist.\n",
        "\n",
        "                print(f\"Extracting {filename} to {extract_to}...\")\n",
        "\n",
        "                with zipfile.ZipFile(zip_filepath, 'r') as zip_ref:\n",
        "                    zip_ref.extractall(extract_to)\n",
        "\n",
        "                print(f\"Extracted {filename} to {extract_to}\")\n",
        "\n",
        "    except Exception as e:\n",
        "        print(f\"Error during extraction: {e}\")\n"
      ],
      "metadata": {
        "id": "UWAazB2ibzP7"
      },
      "execution_count": 71,
      "outputs": []
    },
    {
      "cell_type": "code",
      "source": [
        "zip_path = \"./path/to/SoccerNet/mvfouls/\"  # Replace with actual path\n",
        "base_extract_dir = \"./soccer_extract_data\"  # Base directory for subfolders\n",
        "\n",
        "extract_zip_files_to_subdirs(zip_path, base_extract_dir)"
      ],
      "metadata": {
        "colab": {
          "base_uri": "https://localhost:8080/"
        },
        "id": "ANMDdXyRi-a9",
        "outputId": "f43b7e1b-eb8c-45c7-8783-b0a151463e78"
      },
      "execution_count": 72,
      "outputs": [
        {
          "output_type": "stream",
          "name": "stdout",
          "text": [
            "Extracting test.zip to ./soccer_extract_data/test...\n",
            "Extracted test.zip to ./soccer_extract_data/test\n",
            "Extracting train.zip to ./soccer_extract_data/train...\n",
            "Extracted train.zip to ./soccer_extract_data/train\n",
            "Extracting valid.zip to ./soccer_extract_data/valid...\n",
            "Extracted valid.zip to ./soccer_extract_data/valid\n",
            "Extracting challenge.zip to ./soccer_extract_data/challenge...\n",
            "Extracted challenge.zip to ./soccer_extract_data/challenge\n"
          ]
        }
      ]
    },
    {
      "cell_type": "code",
      "source": [
        "!ls -la ./soccer_extract_data"
      ],
      "metadata": {
        "colab": {
          "base_uri": "https://localhost:8080/"
        },
        "id": "d83ZAJmGUBX3",
        "outputId": "b87ab2bd-06e9-4546-f90f-bb77545744fd"
      },
      "execution_count": 73,
      "outputs": [
        {
          "output_type": "stream",
          "name": "stdout",
          "text": [
            "total 136\n",
            "drwxr-xr-x    6 root root  4096 Feb 25 23:59 .\n",
            "drwxr-xr-x    1 root root  4096 Feb 25 23:58 ..\n",
            "drwxr-xr-x  275 root root 12288 Feb 25 23:59 challenge\n",
            "drwxr-xr-x  303 root root 12288 Feb 25 23:58 test\n",
            "drwxr-xr-x 2918 root root 86016 Feb 25 23:59 train\n",
            "drwxr-xr-x  413 root root 16384 Feb 25 23:59 valid\n"
          ]
        }
      ]
    },
    {
      "cell_type": "code",
      "source": [
        "!ls -la ./soccer_extract_data"
      ],
      "metadata": {
        "colab": {
          "base_uri": "https://localhost:8080/"
        },
        "id": "D-EIo9QCg-e-",
        "outputId": "d334b96d-e1ac-432b-e921-6e6f4adf11cd"
      },
      "execution_count": 69,
      "outputs": [
        {
          "output_type": "stream",
          "name": "stdout",
          "text": [
            "ls: cannot access './soccer_extract_data': No such file or directory\n"
          ]
        }
      ]
    },
    {
      "cell_type": "code",
      "source": [
        "zip_path = \"./path/to/SoccerNet/mvfouls/\"\n",
        "extract_to = \"./soccer_extract_data\"\n",
        "extract_zip_files(zip_path, extract_to)"
      ],
      "metadata": {
        "colab": {
          "base_uri": "https://localhost:8080/"
        },
        "id": "nDqmvgoJ2gU4",
        "outputId": "49ca0368-7c24-491b-fcb3-5badb5acf684"
      },
      "execution_count": 45,
      "outputs": [
        {
          "output_type": "stream",
          "name": "stdout",
          "text": [
            "Extracting test.zip...\n",
            "Extracted test.zip to ./soccer_extract_data\n",
            "Extracting train.zip...\n",
            "Extracted train.zip to ./soccer_extract_data\n",
            "Extracting valid.zip...\n",
            "Extracted valid.zip to ./soccer_extract_data\n",
            "Extracting challenge.zip...\n",
            "Extracted challenge.zip to ./soccer_extract_data\n"
          ]
        }
      ]
    },
    {
      "cell_type": "code",
      "source": [
        "import cv2 # OpenCV for video processing"
      ],
      "metadata": {
        "id": "WhafGBiAxKRB"
      },
      "execution_count": 74,
      "outputs": []
    },
    {
      "cell_type": "code",
      "source": [
        "!ls ./soccer_extract_data/test/\n"
      ],
      "metadata": {
        "colab": {
          "base_uri": "https://localhost:8080/"
        },
        "id": "qZd2GV0sy-w1",
        "outputId": "9ab51741-65ad-4bcc-9d7f-c1e3fb7fcba3"
      },
      "execution_count": 77,
      "outputs": [
        {
          "output_type": "stream",
          "name": "stdout",
          "text": [
            "action_0    action_132\taction_167  action_200\taction_235  action_27\taction_33  action_68\n",
            "action_1    action_133\taction_168  action_201\taction_236  action_270\taction_34  action_69\n",
            "action_10   action_134\taction_169  action_202\taction_237  action_271\taction_35  action_7\n",
            "action_100  action_135\taction_17   action_203\taction_238  action_272\taction_36  action_70\n",
            "action_101  action_136\taction_170  action_204\taction_239  action_273\taction_37  action_71\n",
            "action_102  action_137\taction_171  action_205\taction_24   action_274\taction_38  action_72\n",
            "action_103  action_138\taction_172  action_206\taction_240  action_275\taction_39  action_73\n",
            "action_104  action_139\taction_173  action_207\taction_241  action_276\taction_4   action_74\n",
            "action_105  action_14\taction_174  action_208\taction_242  action_277\taction_40  action_75\n",
            "action_106  action_140\taction_175  action_209\taction_243  action_278\taction_41  action_76\n",
            "action_107  action_141\taction_176  action_21\taction_244  action_279\taction_42  action_77\n",
            "action_108  action_142\taction_177  action_210\taction_245  action_28\taction_43  action_78\n",
            "action_109  action_143\taction_178  action_211\taction_246  action_280\taction_44  action_79\n",
            "action_11   action_144\taction_179  action_212\taction_247  action_281\taction_45  action_8\n",
            "action_110  action_145\taction_18   action_213\taction_248  action_282\taction_46  action_80\n",
            "action_111  action_146\taction_180  action_214\taction_249  action_283\taction_47  action_81\n",
            "action_112  action_147\taction_181  action_215\taction_25   action_284\taction_48  action_82\n",
            "action_113  action_148\taction_182  action_216\taction_250  action_285\taction_49  action_83\n",
            "action_114  action_149\taction_183  action_217\taction_251  action_286\taction_5   action_84\n",
            "action_115  action_15\taction_184  action_218\taction_252  action_287\taction_50  action_85\n",
            "action_116  action_150\taction_185  action_219\taction_253  action_288\taction_51  action_86\n",
            "action_117  action_151\taction_186  action_22\taction_254  action_289\taction_52  action_87\n",
            "action_118  action_152\taction_187  action_220\taction_255  action_29\taction_53  action_88\n",
            "action_119  action_153\taction_188  action_221\taction_256  action_290\taction_54  action_89\n",
            "action_12   action_154\taction_189  action_222\taction_257  action_291\taction_55  action_9\n",
            "action_120  action_155\taction_19   action_223\taction_258  action_292\taction_56  action_90\n",
            "action_121  action_156\taction_190  action_224\taction_259  action_293\taction_57  action_91\n",
            "action_122  action_157\taction_191  action_225\taction_26   action_294\taction_58  action_92\n",
            "action_123  action_158\taction_192  action_226\taction_260  action_295\taction_59  action_93\n",
            "action_124  action_159\taction_193  action_227\taction_261  action_296\taction_6   action_94\n",
            "action_125  action_16\taction_194  action_228\taction_262  action_297\taction_60  action_95\n",
            "action_126  action_160\taction_195  action_229\taction_263  action_298\taction_61  action_96\n",
            "action_127  action_161\taction_196  action_23\taction_264  action_299\taction_62  action_97\n",
            "action_128  action_162\taction_197  action_230\taction_265  action_3\taction_63  action_98\n",
            "action_129  action_163\taction_198  action_231\taction_266  action_30\taction_64  action_99\n",
            "action_13   action_164\taction_199  action_232\taction_267  action_300\taction_65  annotations.json\n",
            "action_130  action_165\taction_2    action_233\taction_268  action_31\taction_66\n",
            "action_131  action_166\taction_20   action_234\taction_269  action_32\taction_67\n"
          ]
        }
      ]
    },
    {
      "cell_type": "code",
      "source": [
        "# Path to Video and JSON Annotation\n",
        "video_path = \"./soccer_extract_data/test/action_1.mp4\"  # Replace with actual path\n",
        "json_path = \"./soccer_extract_data/test/annotations.json\"  # Replace with actual path"
      ],
      "metadata": {
        "id": "LUj5tDURyco5"
      },
      "execution_count": 80,
      "outputs": []
    },
    {
      "cell_type": "code",
      "source": [
        "# Load JSON Annotations\n",
        "with open(json_path, 'r') as f:\n",
        "    annotations = json.load(f)\n"
      ],
      "metadata": {
        "id": "jw3Z7ZihyhQE"
      },
      "execution_count": 81,
      "outputs": []
    },
    {
      "cell_type": "code",
      "source": [
        "# Video Processing (Frame Extraction and Saving)\n",
        "def process_video(video_path, output_dir, frame_rate=5):  # Adjust frame rate as needed\n",
        "    \"\"\"Extracts frames from a video and saves them as images.\"\"\"\n",
        "    if not os.path.exists(output_dir):\n",
        "        os.makedirs(output_dir)\n",
        "\n",
        "    video_name = os.path.splitext(os.path.basename(video_path))[0]\n",
        "    output_subdir = os.path.join(output_dir, video_name)\n",
        "    if not os.path.exists(output_subdir):\n",
        "        os.makedirs(output_subdir)\n",
        "\n",
        "    cap = cv2.VideoCapture(video_path)\n",
        "    frame_count = 0\n",
        "    success, frame = cap.read()\n",
        "\n",
        "    while success:\n",
        "        if frame_count % frame_rate == 0: # Extract every 'frame_rate'-th frame\n",
        "            frame_filename = f\"frame_{frame_count:05d}.jpg\"  # Format frame number\n",
        "            frame_path = os.path.join(output_subdir, frame_filename)\n",
        "            cv2.imwrite(frame_path, frame)  # Save the frame\n",
        "\n",
        "        frame_count += 1\n",
        "        success, frame = cap.read() # Read the next frame\n",
        "    cap.release()\n",
        "    print(f\"Extracted frames from {video_path} to {output_subdir}\")\n",
        "    return output_subdir\n",
        "\n",
        "output_frames_dir = \"./frames\" # Directory to save extracted frames\n",
        "frames_directory = process_video(video_path, output_frames_dir)"
      ],
      "metadata": {
        "colab": {
          "base_uri": "https://localhost:8080/"
        },
        "id": "F2vQUJv1zlQa",
        "outputId": "20962840-82a6-4594-c1ef-1d223a967f66"
      },
      "execution_count": 82,
      "outputs": [
        {
          "output_type": "stream",
          "name": "stdout",
          "text": [
            "Extracted frames from ./soccer_extract_data/test/action_1.mp4 to ./frames/action_1\n"
          ]
        }
      ]
    },
    {
      "cell_type": "code",
      "source": [
        "# Accessing Annotations (Example: Foul Events)\n",
        "foul_events = annotations.get('fouls', [])  # Get the list of foul events\n",
        "\n",
        "for foul in foul_events:\n",
        "    start_frame = foul.get('start_frame') # Access start and end frame of the foul\n",
        "    end_frame = foul.get('end_frame')\n",
        "    # ... process foul information (e.g., player IDs, foul type) ...\n",
        "    print(f\"Foul: Start Frame: {start_frame}, End Frame: {end_frame}\")\n",
        "    # Example: Accessing other information\n",
        "    # player1_id = foul.get('player1_id')\n",
        "    # foul_type = foul.get('type')  # If available in the JSON"
      ],
      "metadata": {
        "id": "EP3Zhi2Ez5UG"
      },
      "execution_count": 83,
      "outputs": []
    },
    {
      "cell_type": "code",
      "source": [
        "# Creating Labels (Example: Binary Foul/No Foul)\n",
        "# This is a simplified example.  You'll likely need to adapt it\n",
        "# based on how your annotations are structured and what kind of\n",
        "# labels you want to create.\n",
        "\n",
        "# Create a list to hold labels. Initialize to 0 (no foul)\n",
        "num_frames = len(os.listdir(frames_directory))  # Get number of frames in the video\n",
        "labels = [0] * num_frames\n",
        "\n",
        "for foul in foul_events:\n",
        "    start_frame = foul.get('start_frame')\n",
        "    end_frame = foul.get('end_frame')\n",
        "    if start_frame is not None and end_frame is not None:\n",
        "        for i in range(start_frame, end_frame + 1):  # Mark frames as foul (1)\n",
        "            if i < num_frames: # Check to avoid index error\n",
        "                labels[i] = 1\n",
        "\n",
        "# Now 'labels' is a list where each element corresponds to a frame.\n",
        "# 0 means no foul, 1 means foul.\n",
        "print(\"Labels:\", labels)"
      ],
      "metadata": {
        "colab": {
          "base_uri": "https://localhost:8080/"
        },
        "id": "wK6qwseE0VZx",
        "outputId": "bfb3050c-3a9e-4e4e-9883-089f990308d8"
      },
      "execution_count": 84,
      "outputs": [
        {
          "output_type": "stream",
          "name": "stdout",
          "text": [
            "Labels: []\n"
          ]
        }
      ]
    },
    {
      "cell_type": "code",
      "source": [],
      "metadata": {
        "id": "sZUnGLDw2eWH"
      },
      "execution_count": null,
      "outputs": []
    }
  ]
}