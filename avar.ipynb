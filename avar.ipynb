{
  "nbformat": 4,
  "nbformat_minor": 0,
  "metadata": {
    "colab": {
      "provenance": [],
      "authorship_tag": "ABX9TyNa1k0poMVjll9yn+fyCu0F",
      "include_colab_link": true
    },
    "kernelspec": {
      "name": "python3",
      "display_name": "Python 3"
    },
    "language_info": {
      "name": "python"
    }
  },
  "cells": [
    {
      "cell_type": "markdown",
      "metadata": {
        "id": "view-in-github",
        "colab_type": "text"
      },
      "source": [
        "<a href=\"https://colab.research.google.com/github/Emmanuel-Ayeni/foulMvSoccerNet-/blob/main/avar.ipynb\" target=\"_parent\"><img src=\"https://colab.research.google.com/assets/colab-badge.svg\" alt=\"Open In Colab\"/></a>"
      ]
    },
    {
      "cell_type": "code",
      "execution_count": 5,
      "metadata": {
        "colab": {
          "base_uri": "https://localhost:8080/"
        },
        "id": "ry8tu7KfxEtb",
        "outputId": "2245980e-fcc9-4490-a7f3-b04ed8fe92ae"
      },
      "outputs": [
        {
          "output_type": "stream",
          "name": "stdout",
          "text": [
            "Requirement already satisfied: soccernet in /usr/local/lib/python3.11/dist-packages (0.1.62)\n",
            "Requirement already satisfied: tqdm in /usr/local/lib/python3.11/dist-packages (from soccernet) (4.67.1)\n",
            "Requirement already satisfied: scikit-video in /usr/local/lib/python3.11/dist-packages (from soccernet) (1.1.11)\n",
            "Requirement already satisfied: matplotlib in /usr/local/lib/python3.11/dist-packages (from soccernet) (3.10.0)\n",
            "Requirement already satisfied: google-measurement-protocol in /usr/local/lib/python3.11/dist-packages (from soccernet) (1.1.0)\n",
            "Requirement already satisfied: pycocoevalcap in /usr/local/lib/python3.11/dist-packages (from soccernet) (1.2)\n",
            "Requirement already satisfied: huggingface_hub[cli] in /usr/local/lib/python3.11/dist-packages (from soccernet) (0.28.1)\n",
            "Requirement already satisfied: boto3 in /usr/local/lib/python3.11/dist-packages (from soccernet) (1.37.0)\n",
            "Requirement already satisfied: botocore<1.38.0,>=1.37.0 in /usr/local/lib/python3.11/dist-packages (from boto3->soccernet) (1.37.0)\n",
            "Requirement already satisfied: jmespath<2.0.0,>=0.7.1 in /usr/local/lib/python3.11/dist-packages (from boto3->soccernet) (1.0.1)\n",
            "Requirement already satisfied: s3transfer<0.12.0,>=0.11.0 in /usr/local/lib/python3.11/dist-packages (from boto3->soccernet) (0.11.2)\n",
            "Requirement already satisfied: requests<3.0a0,>=2.0 in /usr/local/lib/python3.11/dist-packages (from google-measurement-protocol->soccernet) (2.32.3)\n",
            "Requirement already satisfied: prices>=1.0.0 in /usr/local/lib/python3.11/dist-packages (from google-measurement-protocol->soccernet) (1.1.1)\n",
            "Requirement already satisfied: filelock in /usr/local/lib/python3.11/dist-packages (from huggingface_hub[cli]->soccernet) (3.17.0)\n",
            "Requirement already satisfied: fsspec>=2023.5.0 in /usr/local/lib/python3.11/dist-packages (from huggingface_hub[cli]->soccernet) (2024.10.0)\n",
            "Requirement already satisfied: packaging>=20.9 in /usr/local/lib/python3.11/dist-packages (from huggingface_hub[cli]->soccernet) (24.2)\n",
            "Requirement already satisfied: pyyaml>=5.1 in /usr/local/lib/python3.11/dist-packages (from huggingface_hub[cli]->soccernet) (6.0.2)\n",
            "Requirement already satisfied: typing-extensions>=3.7.4.3 in /usr/local/lib/python3.11/dist-packages (from huggingface_hub[cli]->soccernet) (4.12.2)\n",
            "Requirement already satisfied: InquirerPy==0.3.4 in /usr/local/lib/python3.11/dist-packages (from huggingface_hub[cli]->soccernet) (0.3.4)\n",
            "Requirement already satisfied: pfzy<0.4.0,>=0.3.1 in /usr/local/lib/python3.11/dist-packages (from InquirerPy==0.3.4->huggingface_hub[cli]->soccernet) (0.3.4)\n",
            "Requirement already satisfied: prompt-toolkit<4.0.0,>=3.0.1 in /usr/local/lib/python3.11/dist-packages (from InquirerPy==0.3.4->huggingface_hub[cli]->soccernet) (3.0.50)\n",
            "Requirement already satisfied: contourpy>=1.0.1 in /usr/local/lib/python3.11/dist-packages (from matplotlib->soccernet) (1.3.1)\n",
            "Requirement already satisfied: cycler>=0.10 in /usr/local/lib/python3.11/dist-packages (from matplotlib->soccernet) (0.12.1)\n",
            "Requirement already satisfied: fonttools>=4.22.0 in /usr/local/lib/python3.11/dist-packages (from matplotlib->soccernet) (4.56.0)\n",
            "Requirement already satisfied: kiwisolver>=1.3.1 in /usr/local/lib/python3.11/dist-packages (from matplotlib->soccernet) (1.4.8)\n",
            "Requirement already satisfied: numpy>=1.23 in /usr/local/lib/python3.11/dist-packages (from matplotlib->soccernet) (1.26.4)\n",
            "Requirement already satisfied: pillow>=8 in /usr/local/lib/python3.11/dist-packages (from matplotlib->soccernet) (11.1.0)\n",
            "Requirement already satisfied: pyparsing>=2.3.1 in /usr/local/lib/python3.11/dist-packages (from matplotlib->soccernet) (3.2.1)\n",
            "Requirement already satisfied: python-dateutil>=2.7 in /usr/local/lib/python3.11/dist-packages (from matplotlib->soccernet) (2.8.2)\n",
            "Requirement already satisfied: pycocotools>=2.0.2 in /usr/local/lib/python3.11/dist-packages (from pycocoevalcap->soccernet) (2.0.8)\n",
            "Requirement already satisfied: scipy in /usr/local/lib/python3.11/dist-packages (from scikit-video->soccernet) (1.13.1)\n",
            "Requirement already satisfied: urllib3!=2.2.0,<3,>=1.25.4 in /usr/local/lib/python3.11/dist-packages (from botocore<1.38.0,>=1.37.0->boto3->soccernet) (2.3.0)\n",
            "Requirement already satisfied: babel>=2.5.0 in /usr/local/lib/python3.11/dist-packages (from prices>=1.0.0->google-measurement-protocol->soccernet) (2.17.0)\n",
            "Requirement already satisfied: six>=1.5 in /usr/local/lib/python3.11/dist-packages (from python-dateutil>=2.7->matplotlib->soccernet) (1.17.0)\n",
            "Requirement already satisfied: charset-normalizer<4,>=2 in /usr/local/lib/python3.11/dist-packages (from requests<3.0a0,>=2.0->google-measurement-protocol->soccernet) (3.4.1)\n",
            "Requirement already satisfied: idna<4,>=2.5 in /usr/local/lib/python3.11/dist-packages (from requests<3.0a0,>=2.0->google-measurement-protocol->soccernet) (3.10)\n",
            "Requirement already satisfied: certifi>=2017.4.17 in /usr/local/lib/python3.11/dist-packages (from requests<3.0a0,>=2.0->google-measurement-protocol->soccernet) (2025.1.31)\n",
            "Requirement already satisfied: wcwidth in /usr/local/lib/python3.11/dist-packages (from prompt-toolkit<4.0.0,>=3.0.1->InquirerPy==0.3.4->huggingface_hub[cli]->soccernet) (0.2.13)\n"
          ]
        }
      ],
      "source": [
        "!pip install soccernet\n",
        "# Libaries\n",
        "import os\n",
        "import zipfile\n",
        "import json\n",
        "import pandas as pd\n",
        "import SoccerNet"
      ]
    },
    {
      "cell_type": "code",
      "source": [
        "from SoccerNet.Downloader import SoccerNetDownloader as SNdl\n",
        "mySNdl = SNdl(LocalDirectory=\"path/to/SoccerNet\")\n",
        "mySNdl.downloadDataTask(task=\"mvfouls\", split=[\"train\",\"valid\",\"test\",\"challenge\"], password=\"s0cc3rn3t\")"
      ],
      "metadata": {
        "colab": {
          "base_uri": "https://localhost:8080/"
        },
        "id": "AMpkQaK3y34H",
        "outputId": "83b53c9f-1ae4-4bcb-9a25-18c94b408d81"
      },
      "execution_count": 7,
      "outputs": [
        {
          "output_type": "stream",
          "name": "stderr",
          "text": [
            "Downloading path/to/SoccerNet/mvfouls/train.zip...: : 2.46GiB [03:49, 10.7MiB/s]                         \n",
            "Downloading path/to/SoccerNet/mvfouls/valid.zip...: : 351MiB [00:34, 10.0MiB/s]                        \n",
            "Downloading path/to/SoccerNet/mvfouls/test.zip...: : 268MiB [14:07, 316kiB/s]                        \n",
            "Downloading path/to/SoccerNet/mvfouls/challenge.zip...: : 246MiB [12:09, 337kiB/s]                        \n"
          ]
        }
      ]
    },
    {
      "cell_type": "code",
      "source": [
        "!ls path/to/SoccerNet/mvfouls/"
      ],
      "metadata": {
        "colab": {
          "base_uri": "https://localhost:8080/"
        },
        "id": "nKFYW53D0Lyq",
        "outputId": "ef5eab61-d75b-4071-f1c1-9469a9faaf53"
      },
      "execution_count": 30,
      "outputs": [
        {
          "output_type": "stream",
          "name": "stdout",
          "text": [
            "challenge.zip  test.zip  train.zip  valid.zip\n"
          ]
        }
      ]
    },
    {
      "cell_type": "code",
      "source": [],
      "metadata": {
        "id": "h15cDlew2NWA"
      },
      "execution_count": null,
      "outputs": []
    },
    {
      "cell_type": "code",
      "source": [],
      "metadata": {
        "id": "6si6CXQmKke8"
      },
      "execution_count": null,
      "outputs": []
    },
    {
      "cell_type": "code",
      "source": [
        "'''from google.colab import drive\n",
        "def extract_zip_files(zip_dir, extract_to):\n",
        "    \"\"\"\n",
        "    Extracts all files from a zip archive.\n",
        "\n",
        "    Args:\n",
        "        zip_path (str): The path to the zip file.\n",
        "        extract_to (str): The directory to extract the files to.\n",
        "    \"\"\"\n",
        "    if not os.path.exists(extract_to):\n",
        "      os.makedirs(extract_to)\n",
        "\n",
        "    try:\n",
        "        for filename in os.listdir(zip_dir):\n",
        "          if filename.endswith('.zip'):\n",
        "            zip_filepath = os.path.join(zip_dir, filename)\n",
        "            print(f\"Extracting {filename}...\")\n",
        "\n",
        "            with zipfile.ZipFile(zip_filepath, 'r') as zip_ref:\n",
        "              zip_ref.extractall(extract_to)\n",
        "            print(f\"Extracted {filename} to {extract_to}\")\n",
        "\n",
        "    except Exception as e:\n",
        "      print(f\"Error during extraction: {e}\")'''\n"
      ],
      "metadata": {
        "id": "OVRnK6CV2Sj9"
      },
      "execution_count": 44,
      "outputs": []
    },
    {
      "cell_type": "code",
      "source": [
        "def extract_zip_files_to_subdirs(zip_dir, base_extract_dir):\n",
        "    \"\"\"\n",
        "    Extracts each zip file in zip_dir to a subdirectory\n",
        "    named after the zip file (without the .zip extension)\n",
        "    within base_extract_dir.  No files are extracted directly\n",
        "    to base_extract_dir.\n",
        "    \"\"\"\n",
        "\n",
        "    try:\n",
        "        for filename in os.listdir(zip_dir):\n",
        "            if filename.endswith('.zip'):\n",
        "                zip_filepath = os.path.join(zip_dir, filename)\n",
        "                subdir_name = os.path.splitext(filename)[0]  # Name from filename\n",
        "                extract_to = os.path.join(base_extract_dir, subdir_name)\n",
        "\n",
        "                # Create the base directory if it doesn't exist.\n",
        "                if not os.path.exists(base_extract_dir):\n",
        "                    os.makedirs(base_extract_dir)\n",
        "\n",
        "                if not os.path.exists(extract_to):\n",
        "                    os.makedirs(extract_to)  # Create subdir if it doesn't exist.\n",
        "\n",
        "                print(f\"Extracting {filename} to {extract_to}...\")\n",
        "\n",
        "                with zipfile.ZipFile(zip_filepath, 'r') as zip_ref:\n",
        "                    zip_ref.extractall(extract_to)\n",
        "\n",
        "                print(f\"Extracted {filename} to {extract_to}\")\n",
        "\n",
        "    except Exception as e:\n",
        "        print(f\"Error during extraction: {e}\")\n"
      ],
      "metadata": {
        "id": "UWAazB2ibzP7"
      },
      "execution_count": 71,
      "outputs": []
    },
    {
      "cell_type": "code",
      "source": [
        "zip_path = \"./path/to/SoccerNet/mvfouls/\"  # Replace with actual path\n",
        "base_extract_dir = \"./soccer_extract_data\"  # Base directory for subfolders\n",
        "\n",
        "extract_zip_files_to_subdirs(zip_path, base_extract_dir)"
      ],
      "metadata": {
        "colab": {
          "base_uri": "https://localhost:8080/"
        },
        "id": "ANMDdXyRi-a9",
        "outputId": "f43b7e1b-eb8c-45c7-8783-b0a151463e78"
      },
      "execution_count": 72,
      "outputs": [
        {
          "output_type": "stream",
          "name": "stdout",
          "text": [
            "Extracting test.zip to ./soccer_extract_data/test...\n",
            "Extracted test.zip to ./soccer_extract_data/test\n",
            "Extracting train.zip to ./soccer_extract_data/train...\n",
            "Extracted train.zip to ./soccer_extract_data/train\n",
            "Extracting valid.zip to ./soccer_extract_data/valid...\n",
            "Extracted valid.zip to ./soccer_extract_data/valid\n",
            "Extracting challenge.zip to ./soccer_extract_data/challenge...\n",
            "Extracted challenge.zip to ./soccer_extract_data/challenge\n"
          ]
        }
      ]
    },
    {
      "cell_type": "code",
      "source": [
        "!ls -la ./soccer_extract_data"
      ],
      "metadata": {
        "colab": {
          "base_uri": "https://localhost:8080/"
        },
        "id": "d83ZAJmGUBX3",
        "outputId": "b87ab2bd-06e9-4546-f90f-bb77545744fd"
      },
      "execution_count": 73,
      "outputs": [
        {
          "output_type": "stream",
          "name": "stdout",
          "text": [
            "total 136\n",
            "drwxr-xr-x    6 root root  4096 Feb 25 23:59 .\n",
            "drwxr-xr-x    1 root root  4096 Feb 25 23:58 ..\n",
            "drwxr-xr-x  275 root root 12288 Feb 25 23:59 challenge\n",
            "drwxr-xr-x  303 root root 12288 Feb 25 23:58 test\n",
            "drwxr-xr-x 2918 root root 86016 Feb 25 23:59 train\n",
            "drwxr-xr-x  413 root root 16384 Feb 25 23:59 valid\n"
          ]
        }
      ]
    },
    {
      "cell_type": "code",
      "source": [
        "!ls -la ./soccer_extract_data"
      ],
      "metadata": {
        "colab": {
          "base_uri": "https://localhost:8080/"
        },
        "id": "D-EIo9QCg-e-",
        "outputId": "d334b96d-e1ac-432b-e921-6e6f4adf11cd"
      },
      "execution_count": 69,
      "outputs": [
        {
          "output_type": "stream",
          "name": "stdout",
          "text": [
            "ls: cannot access './soccer_extract_data': No such file or directory\n"
          ]
        }
      ]
    },
    {
      "cell_type": "code",
      "source": [
        "zip_path = \"./path/to/SoccerNet/mvfouls/\"\n",
        "extract_to = \"./soccer_extract_data\"\n",
        "extract_zip_files(zip_path, extract_to)"
      ],
      "metadata": {
        "colab": {
          "base_uri": "https://localhost:8080/"
        },
        "id": "nDqmvgoJ2gU4",
        "outputId": "49ca0368-7c24-491b-fcb3-5badb5acf684"
      },
      "execution_count": 45,
      "outputs": [
        {
          "output_type": "stream",
          "name": "stdout",
          "text": [
            "Extracting test.zip...\n",
            "Extracted test.zip to ./soccer_extract_data\n",
            "Extracting train.zip...\n",
            "Extracted train.zip to ./soccer_extract_data\n",
            "Extracting valid.zip...\n",
            "Extracted valid.zip to ./soccer_extract_data\n",
            "Extracting challenge.zip...\n",
            "Extracted challenge.zip to ./soccer_extract_data\n"
          ]
        }
      ]
    }
  ]
}