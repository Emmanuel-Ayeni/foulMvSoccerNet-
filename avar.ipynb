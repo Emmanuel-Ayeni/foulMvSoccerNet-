{
  "nbformat": 4,
  "nbformat_minor": 0,
  "metadata": {
    "colab": {
      "provenance": [],
      "authorship_tag": "ABX9TyMgLdOgK/WKta4c7r/10Az6",
      "include_colab_link": true
    },
    "kernelspec": {
      "name": "python3",
      "display_name": "Python 3"
    },
    "language_info": {
      "name": "python"
    }
  },
  "cells": [
    {
      "cell_type": "markdown",
      "metadata": {
        "id": "view-in-github",
        "colab_type": "text"
      },
      "source": [
        "<a href=\"https://colab.research.google.com/github/Emmanuel-Ayeni/foulMvSoccerNet-/blob/main/avar.ipynb\" target=\"_parent\"><img src=\"https://colab.research.google.com/assets/colab-badge.svg\" alt=\"Open In Colab\"/></a>"
      ]
    },
    {
      "cell_type": "code",
      "execution_count": 1,
      "metadata": {
        "colab": {
          "base_uri": "https://localhost:8080/"
        },
        "id": "ry8tu7KfxEtb",
        "outputId": "43b5c3a3-1d56-473a-eddf-9f18d725f992"
      },
      "outputs": [
        {
          "output_type": "stream",
          "name": "stdout",
          "text": [
            "Requirement already satisfied: soccernet in /usr/local/lib/python3.11/dist-packages (0.1.62)\n",
            "Requirement already satisfied: tqdm in /usr/local/lib/python3.11/dist-packages (from soccernet) (4.67.1)\n",
            "Requirement already satisfied: scikit-video in /usr/local/lib/python3.11/dist-packages (from soccernet) (1.1.11)\n",
            "Requirement already satisfied: matplotlib in /usr/local/lib/python3.11/dist-packages (from soccernet) (3.10.0)\n",
            "Requirement already satisfied: google-measurement-protocol in /usr/local/lib/python3.11/dist-packages (from soccernet) (1.1.0)\n",
            "Requirement already satisfied: pycocoevalcap in /usr/local/lib/python3.11/dist-packages (from soccernet) (1.2)\n",
            "Requirement already satisfied: huggingface_hub[cli] in /usr/local/lib/python3.11/dist-packages (from soccernet) (0.28.1)\n",
            "Requirement already satisfied: boto3 in /usr/local/lib/python3.11/dist-packages (from soccernet) (1.37.2)\n",
            "Requirement already satisfied: botocore<1.38.0,>=1.37.2 in /usr/local/lib/python3.11/dist-packages (from boto3->soccernet) (1.37.2)\n",
            "Requirement already satisfied: jmespath<2.0.0,>=0.7.1 in /usr/local/lib/python3.11/dist-packages (from boto3->soccernet) (1.0.1)\n",
            "Requirement already satisfied: s3transfer<0.12.0,>=0.11.0 in /usr/local/lib/python3.11/dist-packages (from boto3->soccernet) (0.11.3)\n",
            "Requirement already satisfied: requests<3.0a0,>=2.0 in /usr/local/lib/python3.11/dist-packages (from google-measurement-protocol->soccernet) (2.32.3)\n",
            "Requirement already satisfied: prices>=1.0.0 in /usr/local/lib/python3.11/dist-packages (from google-measurement-protocol->soccernet) (1.1.1)\n",
            "Requirement already satisfied: filelock in /usr/local/lib/python3.11/dist-packages (from huggingface_hub[cli]->soccernet) (3.17.0)\n",
            "Requirement already satisfied: fsspec>=2023.5.0 in /usr/local/lib/python3.11/dist-packages (from huggingface_hub[cli]->soccernet) (2024.10.0)\n",
            "Requirement already satisfied: packaging>=20.9 in /usr/local/lib/python3.11/dist-packages (from huggingface_hub[cli]->soccernet) (24.2)\n",
            "Requirement already satisfied: pyyaml>=5.1 in /usr/local/lib/python3.11/dist-packages (from huggingface_hub[cli]->soccernet) (6.0.2)\n",
            "Requirement already satisfied: typing-extensions>=3.7.4.3 in /usr/local/lib/python3.11/dist-packages (from huggingface_hub[cli]->soccernet) (4.12.2)\n",
            "Requirement already satisfied: InquirerPy==0.3.4 in /usr/local/lib/python3.11/dist-packages (from huggingface_hub[cli]->soccernet) (0.3.4)\n",
            "Requirement already satisfied: pfzy<0.4.0,>=0.3.1 in /usr/local/lib/python3.11/dist-packages (from InquirerPy==0.3.4->huggingface_hub[cli]->soccernet) (0.3.4)\n",
            "Requirement already satisfied: prompt-toolkit<4.0.0,>=3.0.1 in /usr/local/lib/python3.11/dist-packages (from InquirerPy==0.3.4->huggingface_hub[cli]->soccernet) (3.0.50)\n",
            "Requirement already satisfied: contourpy>=1.0.1 in /usr/local/lib/python3.11/dist-packages (from matplotlib->soccernet) (1.3.1)\n",
            "Requirement already satisfied: cycler>=0.10 in /usr/local/lib/python3.11/dist-packages (from matplotlib->soccernet) (0.12.1)\n",
            "Requirement already satisfied: fonttools>=4.22.0 in /usr/local/lib/python3.11/dist-packages (from matplotlib->soccernet) (4.56.0)\n",
            "Requirement already satisfied: kiwisolver>=1.3.1 in /usr/local/lib/python3.11/dist-packages (from matplotlib->soccernet) (1.4.8)\n",
            "Requirement already satisfied: numpy>=1.23 in /usr/local/lib/python3.11/dist-packages (from matplotlib->soccernet) (1.26.4)\n",
            "Requirement already satisfied: pillow>=8 in /usr/local/lib/python3.11/dist-packages (from matplotlib->soccernet) (11.1.0)\n",
            "Requirement already satisfied: pyparsing>=2.3.1 in /usr/local/lib/python3.11/dist-packages (from matplotlib->soccernet) (3.2.1)\n",
            "Requirement already satisfied: python-dateutil>=2.7 in /usr/local/lib/python3.11/dist-packages (from matplotlib->soccernet) (2.8.2)\n",
            "Requirement already satisfied: pycocotools>=2.0.2 in /usr/local/lib/python3.11/dist-packages (from pycocoevalcap->soccernet) (2.0.8)\n",
            "Requirement already satisfied: scipy in /usr/local/lib/python3.11/dist-packages (from scikit-video->soccernet) (1.13.1)\n",
            "Requirement already satisfied: urllib3!=2.2.0,<3,>=1.25.4 in /usr/local/lib/python3.11/dist-packages (from botocore<1.38.0,>=1.37.2->boto3->soccernet) (2.3.0)\n",
            "Requirement already satisfied: babel>=2.5.0 in /usr/local/lib/python3.11/dist-packages (from prices>=1.0.0->google-measurement-protocol->soccernet) (2.17.0)\n",
            "Requirement already satisfied: six>=1.5 in /usr/local/lib/python3.11/dist-packages (from python-dateutil>=2.7->matplotlib->soccernet) (1.17.0)\n",
            "Requirement already satisfied: charset-normalizer<4,>=2 in /usr/local/lib/python3.11/dist-packages (from requests<3.0a0,>=2.0->google-measurement-protocol->soccernet) (3.4.1)\n",
            "Requirement already satisfied: idna<4,>=2.5 in /usr/local/lib/python3.11/dist-packages (from requests<3.0a0,>=2.0->google-measurement-protocol->soccernet) (3.10)\n",
            "Requirement already satisfied: certifi>=2017.4.17 in /usr/local/lib/python3.11/dist-packages (from requests<3.0a0,>=2.0->google-measurement-protocol->soccernet) (2025.1.31)\n",
            "Requirement already satisfied: wcwidth in /usr/local/lib/python3.11/dist-packages (from prompt-toolkit<4.0.0,>=3.0.1->InquirerPy==0.3.4->huggingface_hub[cli]->soccernet) (0.2.13)\n"
          ]
        }
      ],
      "source": [
        "!pip install soccernet\n",
        "!pip import ultralytics\n",
        "\n",
        "# Libaries\n",
        "import numpy as np\n",
        "import pandas as pd\n",
        "\n",
        "from sklearn.model_selection import train_test_split\n",
        "import os\n",
        "import zipfile\n",
        "import json\n",
        "\n",
        "import cv2  # OpenCV for video processing\n",
        "import SoccerNet\n",
        "import torch\n",
        "from ultralytics import YOLO\n",
        "\n",
        "from sklearn.model_selection import train_test_split\n",
        "from sklearn.linear_model import LogisticRegression # Example model\n",
        "from sklearn.metrics import classification_report, accuracy_score"
      ]
    },
    {
      "cell_type": "code",
      "source": [
        "!ls path/to/SoccerNet/mvfouls/ # List the content of the directory"
      ],
      "metadata": {
        "colab": {
          "base_uri": "https://localhost:8080/"
        },
        "id": "9sqWqiGjWGfb",
        "outputId": "004f8e85-5055-47ba-d6e9-4b371c3e7b2b"
      },
      "execution_count": 2,
      "outputs": [
        {
          "output_type": "stream",
          "name": "stdout",
          "text": [
            "ls: cannot access 'path/to/SoccerNet/mvfouls/': No such file or directory\n"
          ]
        }
      ]
    },
    {
      "cell_type": "code",
      "source": [
        "from SoccerNet.Downloader import SoccerNetDownloader as SNdl\n",
        "mySNdl = SNdl(LocalDirectory=\"path/to/SoccerNet\")\n",
        "mySNdl.downloadDataTask(task=\"mvfouls\", split=[\"train\",\"valid\",\"test\",\"challenge\"], password=\"s0cc3rn3t\")"
      ],
      "metadata": {
        "colab": {
          "base_uri": "https://localhost:8080/"
        },
        "id": "AMpkQaK3y34H",
        "outputId": "648ea614-490a-42fe-e91d-b994d30e460c"
      },
      "execution_count": 3,
      "outputs": [
        {
          "output_type": "stream",
          "name": "stderr",
          "text": [
            "Downloading path/to/SoccerNet/mvfouls/train.zip...: : 2.46GiB [2:04:12, 330kiB/s]                         \n",
            "Downloading path/to/SoccerNet/mvfouls/valid.zip...: : 351MiB [00:33, 10.6MiB/s]                        \n",
            "Downloading path/to/SoccerNet/mvfouls/test.zip...: : 268MiB [00:26, 10.2MiB/s]                        \n",
            "Downloading path/to/SoccerNet/mvfouls/challenge.zip...: : 246MiB [00:24, 9.95MiB/s]                        \n"
          ]
        }
      ]
    },
    {
      "cell_type": "code",
      "source": [
        "!ls -la path/to/SoccerNet/mvfouls/ # Verify ZIP downloaad correctly"
      ],
      "metadata": {
        "colab": {
          "base_uri": "https://localhost:8080/"
        },
        "id": "nKFYW53D0Lyq",
        "outputId": "e264c0a5-0ec8-4879-9408-8908d9c38368"
      },
      "execution_count": 4,
      "outputs": [
        {
          "output_type": "stream",
          "name": "stdout",
          "text": [
            "total 3246244\n",
            "drwxr-xr-x 2 root root       4096 Feb 27 03:45 .\n",
            "drwxr-xr-x 3 root root       4096 Feb 27 01:40 ..\n",
            "-rw-r--r-- 1 root root  245990818 Feb 27 03:45 challenge.zip\n",
            "-rw-r--r-- 1 root root  268201537 Feb 27 03:45 test.zip\n",
            "-rw-r--r-- 1 root root 2459423137 Feb 27 03:44 train.zip\n",
            "-rw-r--r-- 1 root root  350517090 Feb 27 03:44 valid.zip\n"
          ]
        }
      ]
    },
    {
      "cell_type": "code",
      "source": [
        "'''from google.colab import drive\n",
        "def extract_zip_files(zip_dir, extract_to):\n",
        "    \"\"\"\n",
        "    Extracts all files from a zip archive.\n",
        "\n",
        "    Args:\n",
        "        zip_path (str): The path to the zip file.\n",
        "        extract_to (str): The directory to extract the files to.\n",
        "    \"\"\"\n",
        "    if not os.path.exists(extract_to):\n",
        "      os.makedirs(extract_to)\n",
        "\n",
        "    try:\n",
        "        for filename in os.listdir(zip_dir):\n",
        "          if filename.endswith('.zip'):\n",
        "            zip_filepath = os.path.join(zip_dir, filename)\n",
        "            print(f\"Extracting {filename}...\")\n",
        "\n",
        "            with zipfile.ZipFile(zip_filepath, 'r') as zip_ref:\n",
        "              zip_ref.extractall(extract_to)\n",
        "            print(f\"Extracted {filename} to {extract_to}\")\n",
        "\n",
        "    except Exception as e:\n",
        "      print(f\"Error during extraction: {e}\")'''\n"
      ],
      "metadata": {
        "id": "OVRnK6CV2Sj9",
        "colab": {
          "base_uri": "https://localhost:8080/",
          "height": 192
        },
        "outputId": "9aca2e46-18bc-41a2-b92f-178dcfc43902"
      },
      "execution_count": 5,
      "outputs": [
        {
          "output_type": "execute_result",
          "data": {
            "text/plain": [
              "'from google.colab import drive\\ndef extract_zip_files(zip_dir, extract_to):\\n    \"\"\"\\n    Extracts all files from a zip archive.\\n\\n    Args:\\n        zip_path (str): The path to the zip file.\\n        extract_to (str): The directory to extract the files to.\\n    \"\"\"\\n    if not os.path.exists(extract_to):\\n      os.makedirs(extract_to)\\n\\n    try:\\n        for filename in os.listdir(zip_dir):\\n          if filename.endswith(\\'.zip\\'):\\n            zip_filepath = os.path.join(zip_dir, filename)\\n            print(f\"Extracting {filename}...\")\\n\\n            with zipfile.ZipFile(zip_filepath, \\'r\\') as zip_ref:\\n              zip_ref.extractall(extract_to)\\n            print(f\"Extracted {filename} to {extract_to}\")\\n\\n    except Exception as e:\\n      print(f\"Error during extraction: {e}\")'"
            ],
            "application/vnd.google.colaboratory.intrinsic+json": {
              "type": "string"
            }
          },
          "metadata": {},
          "execution_count": 5
        }
      ]
    },
    {
      "cell_type": "markdown",
      "source": [
        "Extraction of Videos ZIP files and create directories for stoarage"
      ],
      "metadata": {
        "id": "CohQtTSaaDVm"
      }
    },
    {
      "cell_type": "code",
      "source": [
        "def extract_zip_files_to_subdirs(zip_dir, base_extract_dir):\n",
        "    \"\"\"\n",
        "    Extracts each zip file in zip_dir to a subdirectory\n",
        "    named after the zip file (without the .zip extension)\n",
        "    within base_extract_dir.  No files are extracted directly\n",
        "    to base_extract_dir.\n",
        "    \"\"\"\n",
        "\n",
        "    try:\n",
        "        for filename in os.listdir(zip_dir):\n",
        "            if filename.endswith('.zip'):\n",
        "                zip_filepath = os.path.join(zip_dir, filename)\n",
        "                subdir_name = os.path.splitext(filename)[0]  # Name from filename\n",
        "                extract_to = os.path.join(base_extract_dir, subdir_name)\n",
        "\n",
        "                # Create the base directory if it doesn't exist.\n",
        "                if not os.path.exists(base_extract_dir):\n",
        "                    os.makedirs(base_extract_dir)\n",
        "\n",
        "                if not os.path.exists(extract_to):\n",
        "                    os.makedirs(extract_to)  # Create subdir if it doesn't exist.\n",
        "\n",
        "                print(f\"Extracting {filename} to {extract_to}...\")\n",
        "\n",
        "                with zipfile.ZipFile(zip_filepath, 'r') as zip_ref:\n",
        "                    zip_ref.extractall(extract_to)\n",
        "\n",
        "                print(f\"Extracted {filename} to {extract_to}\")\n",
        "\n",
        "    except Exception as e:\n",
        "        print(f\"Error during extraction: {e}\")\n"
      ],
      "metadata": {
        "id": "UWAazB2ibzP7"
      },
      "execution_count": 6,
      "outputs": []
    },
    {
      "cell_type": "code",
      "source": [
        "zip_path = \"./path/to/SoccerNet/mvfouls/\"  # Replace with actual path\n",
        "base_extract_dir = \"./soccer_extract_data\"  # Base directory for subfolders\n",
        "\n",
        "extract_zip_files_to_subdirs(zip_path, base_extract_dir)"
      ],
      "metadata": {
        "colab": {
          "base_uri": "https://localhost:8080/"
        },
        "id": "ANMDdXyRi-a9",
        "outputId": "00f33676-2ac7-4bf7-8f86-80323a234e94"
      },
      "execution_count": 7,
      "outputs": [
        {
          "output_type": "stream",
          "name": "stdout",
          "text": [
            "Extracting valid.zip to ./soccer_extract_data/valid...\n",
            "Extracted valid.zip to ./soccer_extract_data/valid\n",
            "Extracting test.zip to ./soccer_extract_data/test...\n",
            "Extracted test.zip to ./soccer_extract_data/test\n",
            "Extracting challenge.zip to ./soccer_extract_data/challenge...\n",
            "Extracted challenge.zip to ./soccer_extract_data/challenge\n",
            "Extracting train.zip to ./soccer_extract_data/train...\n",
            "Extracted train.zip to ./soccer_extract_data/train\n"
          ]
        }
      ]
    },
    {
      "cell_type": "code",
      "source": [],
      "metadata": {
        "id": "d83ZAJmGUBX3"
      },
      "execution_count": 7,
      "outputs": []
    },
    {
      "cell_type": "code",
      "source": [
        "!ls ./soccer_extract_data/test/\n"
      ],
      "metadata": {
        "colab": {
          "base_uri": "https://localhost:8080/"
        },
        "id": "qZd2GV0sy-w1",
        "outputId": "2d5df384-6dd7-4815-d687-976170aa5bf5"
      },
      "execution_count": 9,
      "outputs": [
        {
          "output_type": "stream",
          "name": "stdout",
          "text": [
            "action_0    action_132\taction_167  action_200\taction_235  action_27\taction_33  action_68\n",
            "action_1    action_133\taction_168  action_201\taction_236  action_270\taction_34  action_69\n",
            "action_10   action_134\taction_169  action_202\taction_237  action_271\taction_35  action_7\n",
            "action_100  action_135\taction_17   action_203\taction_238  action_272\taction_36  action_70\n",
            "action_101  action_136\taction_170  action_204\taction_239  action_273\taction_37  action_71\n",
            "action_102  action_137\taction_171  action_205\taction_24   action_274\taction_38  action_72\n",
            "action_103  action_138\taction_172  action_206\taction_240  action_275\taction_39  action_73\n",
            "action_104  action_139\taction_173  action_207\taction_241  action_276\taction_4   action_74\n",
            "action_105  action_14\taction_174  action_208\taction_242  action_277\taction_40  action_75\n",
            "action_106  action_140\taction_175  action_209\taction_243  action_278\taction_41  action_76\n",
            "action_107  action_141\taction_176  action_21\taction_244  action_279\taction_42  action_77\n",
            "action_108  action_142\taction_177  action_210\taction_245  action_28\taction_43  action_78\n",
            "action_109  action_143\taction_178  action_211\taction_246  action_280\taction_44  action_79\n",
            "action_11   action_144\taction_179  action_212\taction_247  action_281\taction_45  action_8\n",
            "action_110  action_145\taction_18   action_213\taction_248  action_282\taction_46  action_80\n",
            "action_111  action_146\taction_180  action_214\taction_249  action_283\taction_47  action_81\n",
            "action_112  action_147\taction_181  action_215\taction_25   action_284\taction_48  action_82\n",
            "action_113  action_148\taction_182  action_216\taction_250  action_285\taction_49  action_83\n",
            "action_114  action_149\taction_183  action_217\taction_251  action_286\taction_5   action_84\n",
            "action_115  action_15\taction_184  action_218\taction_252  action_287\taction_50  action_85\n",
            "action_116  action_150\taction_185  action_219\taction_253  action_288\taction_51  action_86\n",
            "action_117  action_151\taction_186  action_22\taction_254  action_289\taction_52  action_87\n",
            "action_118  action_152\taction_187  action_220\taction_255  action_29\taction_53  action_88\n",
            "action_119  action_153\taction_188  action_221\taction_256  action_290\taction_54  action_89\n",
            "action_12   action_154\taction_189  action_222\taction_257  action_291\taction_55  action_9\n",
            "action_120  action_155\taction_19   action_223\taction_258  action_292\taction_56  action_90\n",
            "action_121  action_156\taction_190  action_224\taction_259  action_293\taction_57  action_91\n",
            "action_122  action_157\taction_191  action_225\taction_26   action_294\taction_58  action_92\n",
            "action_123  action_158\taction_192  action_226\taction_260  action_295\taction_59  action_93\n",
            "action_124  action_159\taction_193  action_227\taction_261  action_296\taction_6   action_94\n",
            "action_125  action_16\taction_194  action_228\taction_262  action_297\taction_60  action_95\n",
            "action_126  action_160\taction_195  action_229\taction_263  action_298\taction_61  action_96\n",
            "action_127  action_161\taction_196  action_23\taction_264  action_299\taction_62  action_97\n",
            "action_128  action_162\taction_197  action_230\taction_265  action_3\taction_63  action_98\n",
            "action_129  action_163\taction_198  action_231\taction_266  action_30\taction_64  action_99\n",
            "action_13   action_164\taction_199  action_232\taction_267  action_300\taction_65  annotations.json\n",
            "action_130  action_165\taction_2    action_233\taction_268  action_31\taction_66\n",
            "action_131  action_166\taction_20   action_234\taction_269  action_32\taction_67\n"
          ]
        }
      ]
    },
    {
      "cell_type": "code",
      "source": [
        "# Path to Video and JSON Annotation\n",
        "video_path = \"./soccer_extract_data/test/action_1.mp4\"  # Replace with actual path\n",
        "json_path = \"./soccer_extract_data/test/annotations.json\"  # Replace with actual path"
      ],
      "metadata": {
        "id": "LUj5tDURyco5"
      },
      "execution_count": 10,
      "outputs": []
    },
    {
      "cell_type": "code",
      "source": [
        "# Load JSON Annotations\n",
        "with open(json_path, 'r') as f:\n",
        "    annotations = json.load(f)\n"
      ],
      "metadata": {
        "id": "jw3Z7ZihyhQE"
      },
      "execution_count": 11,
      "outputs": []
    },
    {
      "cell_type": "code",
      "source": [
        "# Get the first key of the dictionary\n",
        "first_key = list(annotations.keys())[1]\n",
        "\n",
        "# Access the value associated with the first key\n",
        "first_item = annotations[first_key]\n",
        "\n",
        "# Print the first item\n",
        "print(first_item)"
      ],
      "metadata": {
        "colab": {
          "base_uri": "https://localhost:8080/"
        },
        "id": "1zPqtSgtcEwF",
        "outputId": "a32500e6-9929-4502-ada8-55faeaad8f37"
      },
      "execution_count": 12,
      "outputs": [
        {
          "output_type": "stream",
          "name": "stdout",
          "text": [
            "301\n"
          ]
        }
      ]
    },
    {
      "cell_type": "code",
      "source": [
        "# Get the first key\n",
        "first_key = list(annotations.keys())[0]\n",
        "\n",
        "# Get the first value using the first key\n",
        "first_value = annotations[first_key]\n",
        "\n",
        "# Print the first key-value pair\n",
        "print((first_key, first_value))"
      ],
      "metadata": {
        "colab": {
          "base_uri": "https://localhost:8080/"
        },
        "id": "-lQQmW77d9tG",
        "outputId": "dd9f440b-7a0b-42d8-811b-d7fbe3587729"
      },
      "execution_count": 13,
      "outputs": [
        {
          "output_type": "stream",
          "name": "stdout",
          "text": [
            "('Set', 'test')\n"
          ]
        }
      ]
    },
    {
      "cell_type": "markdown",
      "source": [],
      "metadata": {
        "id": "Z9R1C6STb93j"
      }
    },
    {
      "cell_type": "code",
      "source": [
        "!ls -lt"
      ],
      "metadata": {
        "colab": {
          "base_uri": "https://localhost:8080/"
        },
        "id": "ngmBJ4zJbDzj",
        "outputId": "31e00941-e5b3-447c-bfb9-1e565ecf1fb2"
      },
      "execution_count": 14,
      "outputs": [
        {
          "output_type": "stream",
          "name": "stdout",
          "text": [
            "total 18160\n",
            "drwxr-xr-x 6 root root     4096 Feb 27 03:45 soccer_extract_data\n",
            "drwxr-xr-x 3 root root     4096 Feb 27 01:40 path\n",
            "-rw-r--r-- 1 root root 18581255 Feb 27 01:27 yolov5su.pt\n",
            "drwxr-xr-x 1 root root     4096 Feb 25 14:21 sample_data\n"
          ]
        }
      ]
    },
    {
      "cell_type": "code",
      "source": [
        "# Video Processing (Frame Extraction and Saving)\n",
        "def process_video(video_path, json_path, output_dir, frame_rate=5):  # Adjust frame rate as needed\n",
        "    \"\"\"Extracts frames from a video and saves them as images.\"\"\"\n",
        "    if not os.path.exists(output_dir):\n",
        "        os.makedirs(output_dir)\n",
        "\n",
        "    video_name = os.path.splitext(os.path.basename(video_path))[0]\n",
        "    output_subdir = os.path.join(output_dir, video_name)\n",
        "    if not os.path.exists(output_subdir):\n",
        "        os.makedirs(output_subdir)\n",
        "\n",
        "    cap = cv2.VideoCapture(video_path)\n",
        "    frame_count = 0\n",
        "    success, frame = cap.read()\n",
        "\n",
        "    while success:\n",
        "        if frame_count % frame_rate == 0: # Extract every 'frame_rate'-th frame\n",
        "            frame_filename = f\"frame_{frame_count:05d}.jpg\"  # Format frame number\n",
        "            frame_path = os.path.join(output_subdir, frame_filename)\n",
        "            cv2.imwrite(frame_path, frame)  # Save the frame\n",
        "\n",
        "        frame_count += 1\n",
        "        success, frame = cap.read() # Read the next frame\n",
        "    cap.release()\n",
        "    print(f\"Extracted frames from {frame_path} to {output_subdir}\")\n",
        "    return output_subdir\n"
      ],
      "metadata": {
        "id": "F2vQUJv1zlQa"
      },
      "execution_count": 22,
      "outputs": []
    },
    {
      "cell_type": "code",
      "source": [
        "output_frames_dir = \"./frames\" # Directory to save extracted frames\n",
        "frames_directory = process_video(video_path, output_frames_dir)"
      ],
      "metadata": {
        "colab": {
          "base_uri": "https://localhost:8080/",
          "height": 297
        },
        "id": "5Z3Y6r5Ippbk",
        "outputId": "499a69e2-280c-483c-a5cf-007500e5dd6d"
      },
      "execution_count": 23,
      "outputs": [
        {
          "output_type": "error",
          "ename": "UnboundLocalError",
          "evalue": "cannot access local variable 'frame_path' where it is not associated with a value",
          "traceback": [
            "\u001b[0;31m---------------------------------------------------------------------------\u001b[0m",
            "\u001b[0;31mUnboundLocalError\u001b[0m                         Traceback (most recent call last)",
            "\u001b[0;32m<ipython-input-23-896c6df09d0e>\u001b[0m in \u001b[0;36m<cell line: 0>\u001b[0;34m()\u001b[0m\n\u001b[1;32m      1\u001b[0m \u001b[0moutput_frames_dir\u001b[0m \u001b[0;34m=\u001b[0m \u001b[0;34m\"./frames\"\u001b[0m \u001b[0;31m# Directory to save extracted frames\u001b[0m\u001b[0;34m\u001b[0m\u001b[0;34m\u001b[0m\u001b[0m\n\u001b[0;32m----> 2\u001b[0;31m \u001b[0mframes_directory\u001b[0m \u001b[0;34m=\u001b[0m \u001b[0mprocess_video\u001b[0m\u001b[0;34m(\u001b[0m\u001b[0mvideo_path\u001b[0m\u001b[0;34m,\u001b[0m \u001b[0moutput_frames_dir\u001b[0m\u001b[0;34m)\u001b[0m\u001b[0;34m\u001b[0m\u001b[0;34m\u001b[0m\u001b[0m\n\u001b[0m",
            "\u001b[0;32m<ipython-input-22-120d0205ab00>\u001b[0m in \u001b[0;36mprocess_video\u001b[0;34m(video_path, output_dir, frame_rate)\u001b[0m\n\u001b[1;32m     23\u001b[0m         \u001b[0msuccess\u001b[0m\u001b[0;34m,\u001b[0m \u001b[0mframe\u001b[0m \u001b[0;34m=\u001b[0m \u001b[0mcap\u001b[0m\u001b[0;34m.\u001b[0m\u001b[0mread\u001b[0m\u001b[0;34m(\u001b[0m\u001b[0;34m)\u001b[0m \u001b[0;31m# Read the next frame\u001b[0m\u001b[0;34m\u001b[0m\u001b[0;34m\u001b[0m\u001b[0m\n\u001b[1;32m     24\u001b[0m     \u001b[0mcap\u001b[0m\u001b[0;34m.\u001b[0m\u001b[0mrelease\u001b[0m\u001b[0;34m(\u001b[0m\u001b[0;34m)\u001b[0m\u001b[0;34m\u001b[0m\u001b[0;34m\u001b[0m\u001b[0m\n\u001b[0;32m---> 25\u001b[0;31m     \u001b[0mprint\u001b[0m\u001b[0;34m(\u001b[0m\u001b[0;34mf\"Extracted frames from {frame_path} to {output_subdir}\"\u001b[0m\u001b[0;34m)\u001b[0m\u001b[0;34m\u001b[0m\u001b[0;34m\u001b[0m\u001b[0m\n\u001b[0m\u001b[1;32m     26\u001b[0m     \u001b[0;32mreturn\u001b[0m \u001b[0moutput_subdir\u001b[0m\u001b[0;34m\u001b[0m\u001b[0;34m\u001b[0m\u001b[0m\n",
            "\u001b[0;31mUnboundLocalError\u001b[0m: cannot access local variable 'frame_path' where it is not associated with a value"
          ]
        }
      ]
    },
    {
      "cell_type": "code",
      "source": [
        "# --- Object Detection and Tracking (YOLOv5) ---\n",
        "model = YOLO('yolov5s.pt')  # Load a pre-trained YOLOv5s model (small size)\n",
        "\n",
        "def detect_and_track(image_path):\n",
        "    \"\"\"Performs object detection and tracking on an image.\"\"\"\n",
        "    results = model(image_path)  # Run object detection\n",
        "    detections = []\n",
        "    for *xyxy, conf, cls in results[0].boxes.data:  # Iterate through detections\n",
        "        x1, y1, x2, y2 = map(int, xyxy)  # Convert bounding box to integers\n",
        "        class_id = int(cls)\n",
        "        if class_id == 0:  # Assuming 0 is the class ID for \"person\" (player)\n",
        "            detections.append([x1, y1, x2, y2, conf])  # Add bounding box and confidence\n",
        "        elif class_id == 1: # Assuming 1 is the class ID for \"ball\"\n",
        "            ball_detections.append([x1, y1, x2, y2, conf])\n"
      ],
      "metadata": {
        "id": "osJJAERhlJaY"
      },
      "execution_count": null,
      "outputs": []
    },
    {
      "cell_type": "code",
      "source": [
        "# Accessing Annotations (Example: Foul Events)\n",
        "foul_events = annotations.get('fouls', [])  # Get the list of foul events\n",
        "\n",
        "for foul in foul_events:\n",
        "    start_frame = foul.get('start_frame') # Access start and end frame of the foul\n",
        "    end_frame = foul.get('end_frame')\n",
        "    # ... process foul information (e.g., player IDs, foul type) ...\n",
        "    print(f\"Foul: Start Frame: {start_frame}, End Frame: {end_frame}\")\n",
        "    # Example: Accessing other information\n",
        "    # player1_id = foul.get('player1_id')\n",
        "    # foul_type = foul.get('type')  # If available in the JSON"
      ],
      "metadata": {
        "id": "EP3Zhi2Ez5UG"
      },
      "execution_count": 16,
      "outputs": []
    },
    {
      "cell_type": "code",
      "source": [
        "# Creating Labels (Example: Binary Foul/No Foul)\n",
        "# This is a simplified example.  You'll likely need to adapt it\n",
        "# based on how your annotations are structured and what kind of\n",
        "# labels you want to create.\n",
        "\n",
        "# Create a list to hold labels. Initialize to 0 (no foul)\n",
        "num_frames = len(os.listdir(frame_path))  # Get number of frames in the video\n",
        "labels = [0] * num_frames\n",
        "\n",
        "for foul in foul_events:\n",
        "    start_frame = foul.get('start_frame')\n",
        "    end_frame = foul.get('end_frame')\n",
        "    if start_frame is not None and end_frame is not None:\n",
        "        for i in range(start_frame, end_frame + 1):  # Mark frames as foul (1)\n",
        "            if i < num_frames: # Check to avoid index error\n",
        "                labels[i] = 1\n",
        "\n",
        "# Now 'labels' is a list where each element corresponds to a frame.\n",
        "# 0 means no foul, 1 means foul.\n",
        "print(\"Labels:\", labels)"
      ],
      "metadata": {
        "colab": {
          "base_uri": "https://localhost:8080/",
          "height": 228
        },
        "id": "wK6qwseE0VZx",
        "outputId": "f17fc6be-5d41-4a5c-f835-892a93eb8c02"
      },
      "execution_count": 20,
      "outputs": [
        {
          "output_type": "error",
          "ename": "NameError",
          "evalue": "name 'frame_path' is not defined",
          "traceback": [
            "\u001b[0;31m---------------------------------------------------------------------------\u001b[0m",
            "\u001b[0;31mNameError\u001b[0m                                 Traceback (most recent call last)",
            "\u001b[0;32m<ipython-input-20-8fc7434d3ef4>\u001b[0m in \u001b[0;36m<cell line: 0>\u001b[0;34m()\u001b[0m\n\u001b[1;32m      5\u001b[0m \u001b[0;34m\u001b[0m\u001b[0m\n\u001b[1;32m      6\u001b[0m \u001b[0;31m# Create a list to hold labels. Initialize to 0 (no foul)\u001b[0m\u001b[0;34m\u001b[0m\u001b[0;34m\u001b[0m\u001b[0m\n\u001b[0;32m----> 7\u001b[0;31m \u001b[0mnum_frames\u001b[0m \u001b[0;34m=\u001b[0m \u001b[0mlen\u001b[0m\u001b[0;34m(\u001b[0m\u001b[0mos\u001b[0m\u001b[0;34m.\u001b[0m\u001b[0mlistdir\u001b[0m\u001b[0;34m(\u001b[0m\u001b[0mframe_path\u001b[0m\u001b[0;34m)\u001b[0m\u001b[0;34m)\u001b[0m  \u001b[0;31m# Get number of frames in the video\u001b[0m\u001b[0;34m\u001b[0m\u001b[0;34m\u001b[0m\u001b[0m\n\u001b[0m\u001b[1;32m      8\u001b[0m \u001b[0mlabels\u001b[0m \u001b[0;34m=\u001b[0m \u001b[0;34m[\u001b[0m\u001b[0;36m0\u001b[0m\u001b[0;34m]\u001b[0m \u001b[0;34m*\u001b[0m \u001b[0mnum_frames\u001b[0m\u001b[0;34m\u001b[0m\u001b[0;34m\u001b[0m\u001b[0m\n\u001b[1;32m      9\u001b[0m \u001b[0;34m\u001b[0m\u001b[0m\n",
            "\u001b[0;31mNameError\u001b[0m: name 'frame_path' is not defined"
          ]
        }
      ]
    },
    {
      "cell_type": "code",
      "source": [
        "!pip install torch torchvision torchaudio ultralytics"
      ],
      "metadata": {
        "colab": {
          "base_uri": "https://localhost:8080/"
        },
        "id": "eROGQwYX20JG",
        "outputId": "b2b99522-e5c8-47eb-87f7-b256d8ff6143"
      },
      "execution_count": 19,
      "outputs": [
        {
          "output_type": "stream",
          "name": "stdout",
          "text": [
            "Requirement already satisfied: torch in /usr/local/lib/python3.11/dist-packages (2.5.1+cu124)\n",
            "Requirement already satisfied: torchvision in /usr/local/lib/python3.11/dist-packages (0.20.1+cu124)\n",
            "Requirement already satisfied: torchaudio in /usr/local/lib/python3.11/dist-packages (2.5.1+cu124)\n",
            "Requirement already satisfied: ultralytics in /usr/local/lib/python3.11/dist-packages (8.3.80)\n",
            "Requirement already satisfied: filelock in /usr/local/lib/python3.11/dist-packages (from torch) (3.17.0)\n",
            "Requirement already satisfied: typing-extensions>=4.8.0 in /usr/local/lib/python3.11/dist-packages (from torch) (4.12.2)\n",
            "Requirement already satisfied: networkx in /usr/local/lib/python3.11/dist-packages (from torch) (3.4.2)\n",
            "Requirement already satisfied: jinja2 in /usr/local/lib/python3.11/dist-packages (from torch) (3.1.5)\n",
            "Requirement already satisfied: fsspec in /usr/local/lib/python3.11/dist-packages (from torch) (2024.10.0)\n",
            "Requirement already satisfied: nvidia-cuda-nvrtc-cu12==12.4.127 in /usr/local/lib/python3.11/dist-packages (from torch) (12.4.127)\n",
            "Requirement already satisfied: nvidia-cuda-runtime-cu12==12.4.127 in /usr/local/lib/python3.11/dist-packages (from torch) (12.4.127)\n",
            "Requirement already satisfied: nvidia-cuda-cupti-cu12==12.4.127 in /usr/local/lib/python3.11/dist-packages (from torch) (12.4.127)\n",
            "Requirement already satisfied: nvidia-cudnn-cu12==9.1.0.70 in /usr/local/lib/python3.11/dist-packages (from torch) (9.1.0.70)\n",
            "Requirement already satisfied: nvidia-cublas-cu12==12.4.5.8 in /usr/local/lib/python3.11/dist-packages (from torch) (12.4.5.8)\n",
            "Requirement already satisfied: nvidia-cufft-cu12==11.2.1.3 in /usr/local/lib/python3.11/dist-packages (from torch) (11.2.1.3)\n",
            "Requirement already satisfied: nvidia-curand-cu12==10.3.5.147 in /usr/local/lib/python3.11/dist-packages (from torch) (10.3.5.147)\n",
            "Requirement already satisfied: nvidia-cusolver-cu12==11.6.1.9 in /usr/local/lib/python3.11/dist-packages (from torch) (11.6.1.9)\n",
            "Requirement already satisfied: nvidia-cusparse-cu12==12.3.1.170 in /usr/local/lib/python3.11/dist-packages (from torch) (12.3.1.170)\n",
            "Requirement already satisfied: nvidia-nccl-cu12==2.21.5 in /usr/local/lib/python3.11/dist-packages (from torch) (2.21.5)\n",
            "Requirement already satisfied: nvidia-nvtx-cu12==12.4.127 in /usr/local/lib/python3.11/dist-packages (from torch) (12.4.127)\n",
            "Requirement already satisfied: nvidia-nvjitlink-cu12==12.4.127 in /usr/local/lib/python3.11/dist-packages (from torch) (12.4.127)\n",
            "Requirement already satisfied: triton==3.1.0 in /usr/local/lib/python3.11/dist-packages (from torch) (3.1.0)\n",
            "Requirement already satisfied: sympy==1.13.1 in /usr/local/lib/python3.11/dist-packages (from torch) (1.13.1)\n",
            "Requirement already satisfied: mpmath<1.4,>=1.1.0 in /usr/local/lib/python3.11/dist-packages (from sympy==1.13.1->torch) (1.3.0)\n",
            "Requirement already satisfied: numpy in /usr/local/lib/python3.11/dist-packages (from torchvision) (1.26.4)\n",
            "Requirement already satisfied: pillow!=8.3.*,>=5.3.0 in /usr/local/lib/python3.11/dist-packages (from torchvision) (11.1.0)\n",
            "Requirement already satisfied: matplotlib>=3.3.0 in /usr/local/lib/python3.11/dist-packages (from ultralytics) (3.10.0)\n",
            "Requirement already satisfied: opencv-python>=4.6.0 in /usr/local/lib/python3.11/dist-packages (from ultralytics) (4.11.0.86)\n",
            "Requirement already satisfied: pyyaml>=5.3.1 in /usr/local/lib/python3.11/dist-packages (from ultralytics) (6.0.2)\n",
            "Requirement already satisfied: requests>=2.23.0 in /usr/local/lib/python3.11/dist-packages (from ultralytics) (2.32.3)\n",
            "Requirement already satisfied: scipy>=1.4.1 in /usr/local/lib/python3.11/dist-packages (from ultralytics) (1.13.1)\n",
            "Requirement already satisfied: tqdm>=4.64.0 in /usr/local/lib/python3.11/dist-packages (from ultralytics) (4.67.1)\n",
            "Requirement already satisfied: psutil in /usr/local/lib/python3.11/dist-packages (from ultralytics) (5.9.5)\n",
            "Requirement already satisfied: py-cpuinfo in /usr/local/lib/python3.11/dist-packages (from ultralytics) (9.0.0)\n",
            "Requirement already satisfied: pandas>=1.1.4 in /usr/local/lib/python3.11/dist-packages (from ultralytics) (2.2.2)\n",
            "Requirement already satisfied: seaborn>=0.11.0 in /usr/local/lib/python3.11/dist-packages (from ultralytics) (0.13.2)\n",
            "Requirement already satisfied: ultralytics-thop>=2.0.0 in /usr/local/lib/python3.11/dist-packages (from ultralytics) (2.0.14)\n",
            "Requirement already satisfied: contourpy>=1.0.1 in /usr/local/lib/python3.11/dist-packages (from matplotlib>=3.3.0->ultralytics) (1.3.1)\n",
            "Requirement already satisfied: cycler>=0.10 in /usr/local/lib/python3.11/dist-packages (from matplotlib>=3.3.0->ultralytics) (0.12.1)\n",
            "Requirement already satisfied: fonttools>=4.22.0 in /usr/local/lib/python3.11/dist-packages (from matplotlib>=3.3.0->ultralytics) (4.56.0)\n",
            "Requirement already satisfied: kiwisolver>=1.3.1 in /usr/local/lib/python3.11/dist-packages (from matplotlib>=3.3.0->ultralytics) (1.4.8)\n",
            "Requirement already satisfied: packaging>=20.0 in /usr/local/lib/python3.11/dist-packages (from matplotlib>=3.3.0->ultralytics) (24.2)\n",
            "Requirement already satisfied: pyparsing>=2.3.1 in /usr/local/lib/python3.11/dist-packages (from matplotlib>=3.3.0->ultralytics) (3.2.1)\n",
            "Requirement already satisfied: python-dateutil>=2.7 in /usr/local/lib/python3.11/dist-packages (from matplotlib>=3.3.0->ultralytics) (2.8.2)\n",
            "Requirement already satisfied: pytz>=2020.1 in /usr/local/lib/python3.11/dist-packages (from pandas>=1.1.4->ultralytics) (2025.1)\n",
            "Requirement already satisfied: tzdata>=2022.7 in /usr/local/lib/python3.11/dist-packages (from pandas>=1.1.4->ultralytics) (2025.1)\n",
            "Requirement already satisfied: charset-normalizer<4,>=2 in /usr/local/lib/python3.11/dist-packages (from requests>=2.23.0->ultralytics) (3.4.1)\n",
            "Requirement already satisfied: idna<4,>=2.5 in /usr/local/lib/python3.11/dist-packages (from requests>=2.23.0->ultralytics) (3.10)\n",
            "Requirement already satisfied: urllib3<3,>=1.21.1 in /usr/local/lib/python3.11/dist-packages (from requests>=2.23.0->ultralytics) (2.3.0)\n",
            "Requirement already satisfied: certifi>=2017.4.17 in /usr/local/lib/python3.11/dist-packages (from requests>=2.23.0->ultralytics) (2025.1.31)\n",
            "Requirement already satisfied: MarkupSafe>=2.0 in /usr/local/lib/python3.11/dist-packages (from jinja2->torch) (3.0.2)\n",
            "Requirement already satisfied: six>=1.5 in /usr/local/lib/python3.11/dist-packages (from python-dateutil>=2.7->matplotlib>=3.3.0->ultralytics) (1.17.0)\n"
          ]
        }
      ]
    },
    {
      "cell_type": "code",
      "source": [
        "!pip install ultralytics"
      ],
      "metadata": {
        "id": "G_SUU3UKAFu-"
      },
      "execution_count": null,
      "outputs": []
    },
    {
      "cell_type": "code",
      "source": [
        "# --- Data Loading and Preprocessing ---\n",
        "def process_video(video_path, json_path, output_dir, frame_rate=5):\n",
        "    \"\"\"Processes a single video and its annotations.\"\"\"\n",
        "    # ... (same video processing as before) ...\n",
        "    with open(json_path, 'r') as f:\n",
        "        annotations = json.load(f)\n",
        "\n",
        "    # Multi-class Label Creation (Example - adapt to your foul types)\n",
        "    num_frames = len(os.listdir(os.path.join(output_dir, os.path.splitext(os.path.basename(video_path))[0])))\n",
        "    labels = [0] * num_frames  # 0: No foul, 1: Foul Type 1, 2: Foul Type 2, ...\n",
        "    foul_events = annotations.get('fouls', [])\n",
        "    for foul in foul_events:\n",
        "        start_frame = foul.get('start_frame')\n",
        "        end_frame = foul.get('end_frame')\n",
        "        foul_type = foul.get('type')  # Assuming 'type' in your JSON (e.g., 1, 2, 3)\n",
        "        if start_frame is not None and end_frame is not None and foul_type is not None:\n",
        "            for i in range(start_frame, end_frame + 1):\n",
        "                if i < num_frames:\n",
        "                    labels[i] = foul_type  # Assign the correct foul type\n",
        "\n",
        "    return output_dir, labels"
      ],
      "metadata": {
        "id": "sZUnGLDw2eWH"
      },
      "execution_count": 24,
      "outputs": []
    },
    {
      "cell_type": "code",
      "source": [
        "from ultralytics import YOLO"
      ],
      "metadata": {
        "id": "QnXj3qherkZ8"
      },
      "execution_count": 26,
      "outputs": []
    },
    {
      "cell_type": "code",
      "source": [
        "# --- Object Detection and Tracking (YOLOv5) ---\n",
        "model = YOLO('yolov5s.pt')  # Load a pre-trained YOLOv5s model (small size)\n",
        "\n",
        "def detect_and_track(image_path):\n",
        "    \"\"\"Performs object detection and tracking on an image.\"\"\"\n",
        "    results = model(image_path)  # Run object detection\n",
        "    detections = []\n",
        "    for *xyxy, conf, cls in results[0].boxes.data:  # Iterate through detections\n",
        "        x1, y1, x2, y2 = map(int, xyxy)  # Convert bounding box to integers\n",
        "        class_id = int(cls)\n",
        "        if class_id == 0:  # Assuming 0 is the class ID for \"person\" (player)\n",
        "            detections.append([x1, y1, x2, y2, conf])  # Add bounding box and confidence\n",
        "        elif class_id == 1: # Assuming 1 is the class ID for \"ball\"\n",
        "            ball_detections.append([x1, y1, x2, y2, conf])\n",
        "\n",
        "    return detections, ball_detections  # Return detections (players)"
      ],
      "metadata": {
        "colab": {
          "base_uri": "https://localhost:8080/"
        },
        "id": "DoyyUSv-4x83",
        "outputId": "1a2a7d78-1e8d-4087-8d54-0b22a663ffad"
      },
      "execution_count": 27,
      "outputs": [
        {
          "output_type": "stream",
          "name": "stdout",
          "text": [
            "PRO TIP 💡 Replace 'model=yolov5s.pt' with new 'model=yolov5su.pt'.\n",
            "YOLOv5 'u' models are trained with https://github.com/ultralytics/ultralytics and feature improved performance vs standard YOLOv5 models trained with https://github.com/ultralytics/yolov5.\n",
            "\n"
          ]
        }
      ]
    },
    {
      "cell_type": "code",
      "source": [
        "# --- Feature Extraction (Example - Adapt as needed) ---\n",
        "def extract_features(image_path, detections):\n",
        "    \"\"\"Extracts features from an image given detections.\"\"\"\n",
        "    img = cv2.imread(image_path)\n",
        "    features = []\n",
        "    for x1, y1, x2, y2, conf in detections:\n",
        "        # Example: Crop the detected player and extract some simple features\n",
        "        player_img = img[y1:y2, x1:x2]\n",
        "        if player_img.size > 0: # Check if the image is valid\n",
        "            mean_color = np.mean(player_img, axis=(0, 1))  # Average color\n",
        "            features.append(mean_color)\n",
        "    return np.array(features)"
      ],
      "metadata": {
        "id": "Jq3BY_Pn5KRu"
      },
      "execution_count": 28,
      "outputs": []
    },
    {
      "cell_type": "code",
      "source": [
        "# ---Model Training and Evaluation ---\n",
        "# Example: Logistic Regression (replace with other models as needed)\n",
        "\n",
        "def train_and_evaluate(X_train, y_train, X_test, y_test):\n",
        "    model = LogisticRegression(max_iter=1000)  # Or any other model\n",
        "    model.fit(X_train, y_train)\n",
        "    y_pred = model.predict(X_test)\n",
        "    print(classification_report(y_test, y_pred)) # Classification report\n",
        "    accuracy = accuracy_score(y_test, y_pred)\n",
        "    return model, accuracy\n"
      ],
      "metadata": {
        "id": "MmaE9L_wBatO"
      },
      "execution_count": 29,
      "outputs": []
    },
    {
      "cell_type": "code",
      "source": [
        "base_data_dir = \"./soccer_extract_data\"  # Your base directory\n",
        "output_frames_dir = \"./frames\"\n",
        "\n",
        "all_features = []\n",
        "all_labels = []\n",
        "\n",
        "for split in [\"train\", \"valid\", \"test\"]:  # Process each split\n",
        "  split_dir = os.path.join(base_data_dir, split)\n",
        "  for video_name in os.listdir(split_dir):\n",
        "    if video_name.endswith(\".mp4\"): # Only process video files\n",
        "        ideo_path = os.path.join(split_dir, video_name)\n",
        "        json_path = os.path.join(split_dir, video_name[:-4] + \".json\") # Corresponding json\n",
        "        rames_dir, labels = process_video(video_path, json_path, output_frames_dir)\n",
        "\n",
        "        for frame_file in sorted(os.listdir(frames_dir)): # Sorted to ensure frame order\n",
        "          if frame_file.endswith(\".jpg\"):\n",
        "            frame_path = os.path.join(frames_dir, frame_file)\n",
        "            detections, ball_detections = detect_and_track(frame_path)\n",
        "            features = extract_features(frame_path, detections)\n",
        "\n",
        "            if len(features) > 0: # Check if any players were detected.\n",
        "              all_features.extend(features)\n",
        "              all_labels.extend([labels[int(frame_file[6:-4])]] * len(features)) # Add label for each detected player.\n",
        "\n",
        "    # Convert to numpy arrays\n",
        "    all_features = np.array(all_features)\n",
        "    all_labels = np.array(all_labels)\n",
        "\n",
        "    # Split data (if not already split)\n",
        "    X_train, X_test, y_train, y_test = train_test_split(\n",
        "        all_features, all_labels, test_size=0.2, random_state=42\n",
        "    )\n",
        "\n",
        "    # Model Training and Evaluation\n",
        "    trained_model, accuracy = train_and_evaluate(X_train, y_train, X_test, y_test)\n",
        "    print(f\"Model accuracy: {accuracy}\")\n",
        "\n",
        "    # You can now save your trained model\n",
        "    # torch.save(trained_model, 'foul_detection_model.pth')"
      ],
      "metadata": {
        "colab": {
          "base_uri": "https://localhost:8080/",
          "height": 391
        },
        "id": "gflRjI8tB3A_",
        "outputId": "eeb6a74d-62d1-46d3-f559-a47c511086c4"
      },
      "execution_count": 34,
      "outputs": [
        {
          "output_type": "error",
          "ename": "ValueError",
          "evalue": "With n_samples=0, test_size=0.2 and train_size=None, the resulting train set will be empty. Adjust any of the aforementioned parameters.",
          "traceback": [
            "\u001b[0;31m---------------------------------------------------------------------------\u001b[0m",
            "\u001b[0;31mValueError\u001b[0m                                Traceback (most recent call last)",
            "\u001b[0;32m<ipython-input-34-391fe2f6f9c8>\u001b[0m in \u001b[0;36m<cell line: 0>\u001b[0;34m()\u001b[0m\n\u001b[1;32m     30\u001b[0m \u001b[0;34m\u001b[0m\u001b[0m\n\u001b[1;32m     31\u001b[0m     \u001b[0;31m# Split data (if not already split)\u001b[0m\u001b[0;34m\u001b[0m\u001b[0;34m\u001b[0m\u001b[0m\n\u001b[0;32m---> 32\u001b[0;31m     X_train, X_test, y_train, y_test = train_test_split(\n\u001b[0m\u001b[1;32m     33\u001b[0m         \u001b[0mall_features\u001b[0m\u001b[0;34m,\u001b[0m \u001b[0mall_labels\u001b[0m\u001b[0;34m,\u001b[0m \u001b[0mtest_size\u001b[0m\u001b[0;34m=\u001b[0m\u001b[0;36m0.2\u001b[0m\u001b[0;34m,\u001b[0m \u001b[0mrandom_state\u001b[0m\u001b[0;34m=\u001b[0m\u001b[0;36m42\u001b[0m\u001b[0;34m\u001b[0m\u001b[0;34m\u001b[0m\u001b[0m\n\u001b[1;32m     34\u001b[0m     )\n",
            "\u001b[0;32m/usr/local/lib/python3.11/dist-packages/sklearn/utils/_param_validation.py\u001b[0m in \u001b[0;36mwrapper\u001b[0;34m(*args, **kwargs)\u001b[0m\n\u001b[1;32m    214\u001b[0m                     )\n\u001b[1;32m    215\u001b[0m                 ):\n\u001b[0;32m--> 216\u001b[0;31m                     \u001b[0;32mreturn\u001b[0m \u001b[0mfunc\u001b[0m\u001b[0;34m(\u001b[0m\u001b[0;34m*\u001b[0m\u001b[0margs\u001b[0m\u001b[0;34m,\u001b[0m \u001b[0;34m**\u001b[0m\u001b[0mkwargs\u001b[0m\u001b[0;34m)\u001b[0m\u001b[0;34m\u001b[0m\u001b[0;34m\u001b[0m\u001b[0m\n\u001b[0m\u001b[1;32m    217\u001b[0m             \u001b[0;32mexcept\u001b[0m \u001b[0mInvalidParameterError\u001b[0m \u001b[0;32mas\u001b[0m \u001b[0me\u001b[0m\u001b[0;34m:\u001b[0m\u001b[0;34m\u001b[0m\u001b[0;34m\u001b[0m\u001b[0m\n\u001b[1;32m    218\u001b[0m                 \u001b[0;31m# When the function is just a wrapper around an estimator, we allow\u001b[0m\u001b[0;34m\u001b[0m\u001b[0;34m\u001b[0m\u001b[0m\n",
            "\u001b[0;32m/usr/local/lib/python3.11/dist-packages/sklearn/model_selection/_split.py\u001b[0m in \u001b[0;36mtrain_test_split\u001b[0;34m(test_size, train_size, random_state, shuffle, stratify, *arrays)\u001b[0m\n\u001b[1;32m   2849\u001b[0m \u001b[0;34m\u001b[0m\u001b[0m\n\u001b[1;32m   2850\u001b[0m     \u001b[0mn_samples\u001b[0m \u001b[0;34m=\u001b[0m \u001b[0m_num_samples\u001b[0m\u001b[0;34m(\u001b[0m\u001b[0marrays\u001b[0m\u001b[0;34m[\u001b[0m\u001b[0;36m0\u001b[0m\u001b[0;34m]\u001b[0m\u001b[0;34m)\u001b[0m\u001b[0;34m\u001b[0m\u001b[0;34m\u001b[0m\u001b[0m\n\u001b[0;32m-> 2851\u001b[0;31m     n_train, n_test = _validate_shuffle_split(\n\u001b[0m\u001b[1;32m   2852\u001b[0m         \u001b[0mn_samples\u001b[0m\u001b[0;34m,\u001b[0m \u001b[0mtest_size\u001b[0m\u001b[0;34m,\u001b[0m \u001b[0mtrain_size\u001b[0m\u001b[0;34m,\u001b[0m \u001b[0mdefault_test_size\u001b[0m\u001b[0;34m=\u001b[0m\u001b[0;36m0.25\u001b[0m\u001b[0;34m\u001b[0m\u001b[0;34m\u001b[0m\u001b[0m\n\u001b[1;32m   2853\u001b[0m     )\n",
            "\u001b[0;32m/usr/local/lib/python3.11/dist-packages/sklearn/model_selection/_split.py\u001b[0m in \u001b[0;36m_validate_shuffle_split\u001b[0;34m(n_samples, test_size, train_size, default_test_size)\u001b[0m\n\u001b[1;32m   2479\u001b[0m \u001b[0;34m\u001b[0m\u001b[0m\n\u001b[1;32m   2480\u001b[0m     \u001b[0;32mif\u001b[0m \u001b[0mn_train\u001b[0m \u001b[0;34m==\u001b[0m \u001b[0;36m0\u001b[0m\u001b[0;34m:\u001b[0m\u001b[0;34m\u001b[0m\u001b[0;34m\u001b[0m\u001b[0m\n\u001b[0;32m-> 2481\u001b[0;31m         raise ValueError(\n\u001b[0m\u001b[1;32m   2482\u001b[0m             \u001b[0;34m\"With n_samples={}, test_size={} and train_size={}, the \"\u001b[0m\u001b[0;34m\u001b[0m\u001b[0;34m\u001b[0m\u001b[0m\n\u001b[1;32m   2483\u001b[0m             \u001b[0;34m\"resulting train set will be empty. Adjust any of the \"\u001b[0m\u001b[0;34m\u001b[0m\u001b[0;34m\u001b[0m\u001b[0m\n",
            "\u001b[0;31mValueError\u001b[0m: With n_samples=0, test_size=0.2 and train_size=None, the resulting train set will be empty. Adjust any of the aforementioned parameters."
          ]
        }
      ]
    }
  ]
}