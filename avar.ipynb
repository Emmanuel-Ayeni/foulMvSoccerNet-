{
  "nbformat": 4,
  "nbformat_minor": 0,
  "metadata": {
    "colab": {
      "provenance": [],
      "authorship_tag": "ABX9TyNugeDu8/ARruftcSbrwV16",
      "include_colab_link": true
    },
    "kernelspec": {
      "name": "python3",
      "display_name": "Python 3"
    },
    "language_info": {
      "name": "python"
    }
  },
  "cells": [
    {
      "cell_type": "markdown",
      "metadata": {
        "id": "view-in-github",
        "colab_type": "text"
      },
      "source": [
        "<a href=\"https://colab.research.google.com/github/Emmanuel-Ayeni/foulMvSoccerNet-/blob/main/avar.ipynb\" target=\"_parent\"><img src=\"https://colab.research.google.com/assets/colab-badge.svg\" alt=\"Open In Colab\"/></a>"
      ]
    },
    {
      "cell_type": "code",
      "execution_count": null,
      "metadata": {
        "colab": {
          "base_uri": "https://localhost:8080/"
        },
        "id": "ry8tu7KfxEtb",
        "outputId": "a44de95c-6dd9-4935-d673-8033135c31b8"
      },
      "outputs": [
        {
          "output_type": "stream",
          "name": "stdout",
          "text": [
            "Collecting soccernet\n",
            "  Downloading SoccerNet-0.1.62-py3-none-any.whl.metadata (13 kB)\n",
            "Requirement already satisfied: tqdm in /usr/local/lib/python3.11/dist-packages (from soccernet) (4.67.1)\n",
            "Collecting scikit-video (from soccernet)\n",
            "  Downloading scikit_video-1.1.11-py2.py3-none-any.whl.metadata (1.1 kB)\n",
            "Requirement already satisfied: matplotlib in /usr/local/lib/python3.11/dist-packages (from soccernet) (3.10.0)\n",
            "Collecting google-measurement-protocol (from soccernet)\n",
            "  Downloading google_measurement_protocol-1.1.0-py2.py3-none-any.whl.metadata (845 bytes)\n",
            "Collecting pycocoevalcap (from soccernet)\n",
            "  Downloading pycocoevalcap-1.2-py3-none-any.whl.metadata (3.2 kB)\n",
            "Requirement already satisfied: huggingface_hub[cli] in /usr/local/lib/python3.11/dist-packages (from soccernet) (0.28.1)\n",
            "Collecting boto3 (from soccernet)\n",
            "  Downloading boto3-1.37.1-py3-none-any.whl.metadata (6.6 kB)\n",
            "Collecting botocore<1.38.0,>=1.37.1 (from boto3->soccernet)\n",
            "  Downloading botocore-1.37.1-py3-none-any.whl.metadata (5.7 kB)\n",
            "Collecting jmespath<2.0.0,>=0.7.1 (from boto3->soccernet)\n",
            "  Downloading jmespath-1.0.1-py3-none-any.whl.metadata (7.6 kB)\n",
            "Collecting s3transfer<0.12.0,>=0.11.0 (from boto3->soccernet)\n",
            "  Downloading s3transfer-0.11.2-py3-none-any.whl.metadata (1.7 kB)\n",
            "Requirement already satisfied: requests<3.0a0,>=2.0 in /usr/local/lib/python3.11/dist-packages (from google-measurement-protocol->soccernet) (2.32.3)\n",
            "Collecting prices>=1.0.0 (from google-measurement-protocol->soccernet)\n",
            "  Downloading prices-1.1.1-py3-none-any.whl.metadata (2.8 kB)\n",
            "Requirement already satisfied: filelock in /usr/local/lib/python3.11/dist-packages (from huggingface_hub[cli]->soccernet) (3.17.0)\n",
            "Requirement already satisfied: fsspec>=2023.5.0 in /usr/local/lib/python3.11/dist-packages (from huggingface_hub[cli]->soccernet) (2024.10.0)\n",
            "Requirement already satisfied: packaging>=20.9 in /usr/local/lib/python3.11/dist-packages (from huggingface_hub[cli]->soccernet) (24.2)\n",
            "Requirement already satisfied: pyyaml>=5.1 in /usr/local/lib/python3.11/dist-packages (from huggingface_hub[cli]->soccernet) (6.0.2)\n",
            "Requirement already satisfied: typing-extensions>=3.7.4.3 in /usr/local/lib/python3.11/dist-packages (from huggingface_hub[cli]->soccernet) (4.12.2)\n",
            "Collecting InquirerPy==0.3.4 (from huggingface_hub[cli]->soccernet)\n",
            "  Downloading InquirerPy-0.3.4-py3-none-any.whl.metadata (8.1 kB)\n",
            "Collecting pfzy<0.4.0,>=0.3.1 (from InquirerPy==0.3.4->huggingface_hub[cli]->soccernet)\n",
            "  Downloading pfzy-0.3.4-py3-none-any.whl.metadata (4.9 kB)\n",
            "Requirement already satisfied: prompt-toolkit<4.0.0,>=3.0.1 in /usr/local/lib/python3.11/dist-packages (from InquirerPy==0.3.4->huggingface_hub[cli]->soccernet) (3.0.50)\n",
            "Requirement already satisfied: contourpy>=1.0.1 in /usr/local/lib/python3.11/dist-packages (from matplotlib->soccernet) (1.3.1)\n",
            "Requirement already satisfied: cycler>=0.10 in /usr/local/lib/python3.11/dist-packages (from matplotlib->soccernet) (0.12.1)\n",
            "Requirement already satisfied: fonttools>=4.22.0 in /usr/local/lib/python3.11/dist-packages (from matplotlib->soccernet) (4.56.0)\n",
            "Requirement already satisfied: kiwisolver>=1.3.1 in /usr/local/lib/python3.11/dist-packages (from matplotlib->soccernet) (1.4.8)\n",
            "Requirement already satisfied: numpy>=1.23 in /usr/local/lib/python3.11/dist-packages (from matplotlib->soccernet) (1.26.4)\n",
            "Requirement already satisfied: pillow>=8 in /usr/local/lib/python3.11/dist-packages (from matplotlib->soccernet) (11.1.0)\n",
            "Requirement already satisfied: pyparsing>=2.3.1 in /usr/local/lib/python3.11/dist-packages (from matplotlib->soccernet) (3.2.1)\n",
            "Requirement already satisfied: python-dateutil>=2.7 in /usr/local/lib/python3.11/dist-packages (from matplotlib->soccernet) (2.8.2)\n",
            "Requirement already satisfied: pycocotools>=2.0.2 in /usr/local/lib/python3.11/dist-packages (from pycocoevalcap->soccernet) (2.0.8)\n",
            "Requirement already satisfied: scipy in /usr/local/lib/python3.11/dist-packages (from scikit-video->soccernet) (1.13.1)\n",
            "Requirement already satisfied: urllib3!=2.2.0,<3,>=1.25.4 in /usr/local/lib/python3.11/dist-packages (from botocore<1.38.0,>=1.37.1->boto3->soccernet) (2.3.0)\n",
            "Requirement already satisfied: babel>=2.5.0 in /usr/local/lib/python3.11/dist-packages (from prices>=1.0.0->google-measurement-protocol->soccernet) (2.17.0)\n",
            "Requirement already satisfied: six>=1.5 in /usr/local/lib/python3.11/dist-packages (from python-dateutil>=2.7->matplotlib->soccernet) (1.17.0)\n",
            "Requirement already satisfied: charset-normalizer<4,>=2 in /usr/local/lib/python3.11/dist-packages (from requests<3.0a0,>=2.0->google-measurement-protocol->soccernet) (3.4.1)\n",
            "Requirement already satisfied: idna<4,>=2.5 in /usr/local/lib/python3.11/dist-packages (from requests<3.0a0,>=2.0->google-measurement-protocol->soccernet) (3.10)\n",
            "Requirement already satisfied: certifi>=2017.4.17 in /usr/local/lib/python3.11/dist-packages (from requests<3.0a0,>=2.0->google-measurement-protocol->soccernet) (2025.1.31)\n",
            "Requirement already satisfied: wcwidth in /usr/local/lib/python3.11/dist-packages (from prompt-toolkit<4.0.0,>=3.0.1->InquirerPy==0.3.4->huggingface_hub[cli]->soccernet) (0.2.13)\n",
            "Downloading SoccerNet-0.1.62-py3-none-any.whl (86 kB)\n",
            "\u001b[2K   \u001b[90m━━━━━━━━━━━━━━━━━━━━━━━━━━━━━━━━━━━━━━━━\u001b[0m \u001b[32m86.9/86.9 kB\u001b[0m \u001b[31m3.3 MB/s\u001b[0m eta \u001b[36m0:00:00\u001b[0m\n",
            "\u001b[?25hDownloading boto3-1.37.1-py3-none-any.whl (139 kB)\n",
            "\u001b[2K   \u001b[90m━━━━━━━━━━━━━━━━━━━━━━━━━━━━━━━━━━━━━━━━\u001b[0m \u001b[32m139.3/139.3 kB\u001b[0m \u001b[31m6.4 MB/s\u001b[0m eta \u001b[36m0:00:00\u001b[0m\n",
            "\u001b[?25hDownloading google_measurement_protocol-1.1.0-py2.py3-none-any.whl (5.9 kB)\n",
            "Downloading InquirerPy-0.3.4-py3-none-any.whl (67 kB)\n",
            "\u001b[2K   \u001b[90m━━━━━━━━━━━━━━━━━━━━━━━━━━━━━━━━━━━━━━━━\u001b[0m \u001b[32m67.7/67.7 kB\u001b[0m \u001b[31m5.0 MB/s\u001b[0m eta \u001b[36m0:00:00\u001b[0m\n",
            "\u001b[?25hDownloading pycocoevalcap-1.2-py3-none-any.whl (104.3 MB)\n",
            "\u001b[2K   \u001b[90m━━━━━━━━━━━━━━━━━━━━━━━━━━━━━━━━━━━━━━━━\u001b[0m \u001b[32m104.3/104.3 MB\u001b[0m \u001b[31m8.9 MB/s\u001b[0m eta \u001b[36m0:00:00\u001b[0m\n",
            "\u001b[?25hDownloading scikit_video-1.1.11-py2.py3-none-any.whl (2.3 MB)\n",
            "\u001b[2K   \u001b[90m━━━━━━━━━━━━━━━━━━━━━━━━━━━━━━━━━━━━━━━━\u001b[0m \u001b[32m2.3/2.3 MB\u001b[0m \u001b[31m49.6 MB/s\u001b[0m eta \u001b[36m0:00:00\u001b[0m\n",
            "\u001b[?25hDownloading botocore-1.37.1-py3-none-any.whl (13.4 MB)\n",
            "\u001b[2K   \u001b[90m━━━━━━━━━━━━━━━━━━━━━━━━━━━━━━━━━━━━━━━━\u001b[0m \u001b[32m13.4/13.4 MB\u001b[0m \u001b[31m118.8 MB/s\u001b[0m eta \u001b[36m0:00:00\u001b[0m\n",
            "\u001b[?25hDownloading jmespath-1.0.1-py3-none-any.whl (20 kB)\n",
            "Downloading prices-1.1.1-py3-none-any.whl (9.5 kB)\n",
            "Downloading s3transfer-0.11.2-py3-none-any.whl (84 kB)\n",
            "\u001b[2K   \u001b[90m━━━━━━━━━━━━━━━━━━━━━━━━━━━━━━━━━━━━━━━━\u001b[0m \u001b[32m84.2/84.2 kB\u001b[0m \u001b[31m7.5 MB/s\u001b[0m eta \u001b[36m0:00:00\u001b[0m\n",
            "\u001b[?25hDownloading pfzy-0.3.4-py3-none-any.whl (8.5 kB)\n",
            "Installing collected packages: prices, pfzy, jmespath, scikit-video, InquirerPy, google-measurement-protocol, botocore, s3transfer, pycocoevalcap, boto3, soccernet\n",
            "Successfully installed InquirerPy-0.3.4 boto3-1.37.1 botocore-1.37.1 google-measurement-protocol-1.1.0 jmespath-1.0.1 pfzy-0.3.4 prices-1.1.1 pycocoevalcap-1.2 s3transfer-0.11.2 scikit-video-1.1.11 soccernet-0.1.62\n"
          ]
        }
      ],
      "source": [
        "!pip install soccernet\n",
        "# Libaries\n",
        "import os\n",
        "import zipfile\n",
        "import json\n",
        "import pandas as pd\n",
        "import SoccerNet"
      ]
    },
    {
      "cell_type": "code",
      "source": [
        "!ls path/to/SoccerNet/mvfouls/ # List the content of the directory"
      ],
      "metadata": {
        "colab": {
          "base_uri": "https://localhost:8080/"
        },
        "id": "9sqWqiGjWGfb",
        "outputId": "1185f93b-eb92-4182-b06a-6d2b4d0342e6"
      },
      "execution_count": null,
      "outputs": [
        {
          "output_type": "stream",
          "name": "stdout",
          "text": [
            "challenge.zip  test.zip  train.zip  valid.zip\n"
          ]
        }
      ]
    },
    {
      "cell_type": "code",
      "source": [
        "from SoccerNet.Downloader import SoccerNetDownloader as SNdl\n",
        "mySNdl = SNdl(LocalDirectory=\"path/to/SoccerNet\")\n",
        "mySNdl.downloadDataTask(task=\"mvfouls\", split=[\"train\",\"valid\",\"test\",\"challenge\"], password=\"s0cc3rn3t\")"
      ],
      "metadata": {
        "colab": {
          "base_uri": "https://localhost:8080/"
        },
        "id": "AMpkQaK3y34H",
        "outputId": "451c7104-1024-46ab-8e4f-6ad84b0768b4"
      },
      "execution_count": null,
      "outputs": [
        {
          "output_type": "stream",
          "name": "stderr",
          "text": [
            "Downloading path/to/SoccerNet/mvfouls/train.zip...: : 2.46GiB [02:09, 19.0MiB/s]                         \n",
            "Downloading path/to/SoccerNet/mvfouls/valid.zip...: : 351MiB [00:18, 18.8MiB/s]\n",
            "Downloading path/to/SoccerNet/mvfouls/test.zip...: : 268MiB [00:14, 18.0MiB/s]                        \n",
            "Downloading path/to/SoccerNet/mvfouls/challenge.zip...: : 246MiB [09:58, 411kiB/s]                        \n"
          ]
        }
      ]
    },
    {
      "cell_type": "code",
      "source": [
        "!ls -la path/to/SoccerNet/mvfouls/ # Verify ZIP downloaad correctly"
      ],
      "metadata": {
        "colab": {
          "base_uri": "https://localhost:8080/"
        },
        "id": "nKFYW53D0Lyq",
        "outputId": "4437271e-21b3-40a3-fd94-38455358299a"
      },
      "execution_count": null,
      "outputs": [
        {
          "output_type": "stream",
          "name": "stdout",
          "text": [
            "total 3246244\n",
            "drwxr-xr-x 2 root root       4096 Feb 26 13:03 .\n",
            "drwxr-xr-x 3 root root       4096 Feb 26 13:00 ..\n",
            "-rw-r--r-- 1 root root  245990818 Feb 26 13:13 challenge.zip\n",
            "-rw-r--r-- 1 root root  268201537 Feb 26 13:03 test.zip\n",
            "-rw-r--r-- 1 root root 2459423137 Feb 26 13:03 train.zip\n",
            "-rw-r--r-- 1 root root  350517090 Feb 26 13:03 valid.zip\n"
          ]
        }
      ]
    },
    {
      "cell_type": "code",
      "source": [
        "'''from google.colab import drive\n",
        "def extract_zip_files(zip_dir, extract_to):\n",
        "    \"\"\"\n",
        "    Extracts all files from a zip archive.\n",
        "\n",
        "    Args:\n",
        "        zip_path (str): The path to the zip file.\n",
        "        extract_to (str): The directory to extract the files to.\n",
        "    \"\"\"\n",
        "    if not os.path.exists(extract_to):\n",
        "      os.makedirs(extract_to)\n",
        "\n",
        "    try:\n",
        "        for filename in os.listdir(zip_dir):\n",
        "          if filename.endswith('.zip'):\n",
        "            zip_filepath = os.path.join(zip_dir, filename)\n",
        "            print(f\"Extracting {filename}...\")\n",
        "\n",
        "            with zipfile.ZipFile(zip_filepath, 'r') as zip_ref:\n",
        "              zip_ref.extractall(extract_to)\n",
        "            print(f\"Extracted {filename} to {extract_to}\")\n",
        "\n",
        "    except Exception as e:\n",
        "      print(f\"Error during extraction: {e}\")'''\n"
      ],
      "metadata": {
        "id": "OVRnK6CV2Sj9"
      },
      "execution_count": null,
      "outputs": []
    },
    {
      "cell_type": "markdown",
      "source": [
        "Extraction of Videos ZIP files and create directories for stoarage"
      ],
      "metadata": {
        "id": "CohQtTSaaDVm"
      }
    },
    {
      "cell_type": "code",
      "source": [
        "def extract_zip_files_to_subdirs(zip_dir, base_extract_dir):\n",
        "    \"\"\"\n",
        "    Extracts each zip file in zip_dir to a subdirectory\n",
        "    named after the zip file (without the .zip extension)\n",
        "    within base_extract_dir.  No files are extracted directly\n",
        "    to base_extract_dir.\n",
        "    \"\"\"\n",
        "\n",
        "    try:\n",
        "        for filename in os.listdir(zip_dir):\n",
        "            if filename.endswith('.zip'):\n",
        "                zip_filepath = os.path.join(zip_dir, filename)\n",
        "                subdir_name = os.path.splitext(filename)[0]  # Name from filename\n",
        "                extract_to = os.path.join(base_extract_dir, subdir_name)\n",
        "\n",
        "                # Create the base directory if it doesn't exist.\n",
        "                if not os.path.exists(base_extract_dir):\n",
        "                    os.makedirs(base_extract_dir)\n",
        "\n",
        "                if not os.path.exists(extract_to):\n",
        "                    os.makedirs(extract_to)  # Create subdir if it doesn't exist.\n",
        "\n",
        "                print(f\"Extracting {filename} to {extract_to}...\")\n",
        "\n",
        "                with zipfile.ZipFile(zip_filepath, 'r') as zip_ref:\n",
        "                    zip_ref.extractall(extract_to)\n",
        "\n",
        "                print(f\"Extracted {filename} to {extract_to}\")\n",
        "\n",
        "    except Exception as e:\n",
        "        print(f\"Error during extraction: {e}\")\n"
      ],
      "metadata": {
        "id": "UWAazB2ibzP7"
      },
      "execution_count": null,
      "outputs": []
    },
    {
      "cell_type": "code",
      "source": [
        "zip_path = \"./path/to/SoccerNet/mvfouls/\"  # Replace with actual path\n",
        "base_extract_dir = \"./soccer_extract_data\"  # Base directory for subfolders\n",
        "\n",
        "extract_zip_files_to_subdirs(zip_path, base_extract_dir)"
      ],
      "metadata": {
        "colab": {
          "base_uri": "https://localhost:8080/"
        },
        "id": "ANMDdXyRi-a9",
        "outputId": "b90f3c5b-659f-4520-9b0e-34ce23926b21"
      },
      "execution_count": null,
      "outputs": [
        {
          "output_type": "stream",
          "name": "stdout",
          "text": [
            "Extracting test.zip to ./soccer_extract_data/test...\n",
            "Extracted test.zip to ./soccer_extract_data/test\n",
            "Extracting train.zip to ./soccer_extract_data/train...\n",
            "Extracted train.zip to ./soccer_extract_data/train\n",
            "Extracting valid.zip to ./soccer_extract_data/valid...\n",
            "Extracted valid.zip to ./soccer_extract_data/valid\n",
            "Extracting challenge.zip to ./soccer_extract_data/challenge...\n",
            "Extracted challenge.zip to ./soccer_extract_data/challenge\n"
          ]
        }
      ]
    },
    {
      "cell_type": "code",
      "source": [],
      "metadata": {
        "colab": {
          "base_uri": "https://localhost:8080/"
        },
        "id": "d83ZAJmGUBX3",
        "outputId": "408b4534-c57e-47b1-8587-4b4c81fbe073"
      },
      "execution_count": null,
      "outputs": [
        {
          "output_type": "stream",
          "name": "stdout",
          "text": [
            "total 136\n",
            "drwxr-xr-x    6 root root  4096 Feb 26 13:20 .\n",
            "drwxr-xr-x    1 root root  4096 Feb 26 13:38 ..\n",
            "drwxr-xr-x  275 root root 12288 Feb 26 13:20 challenge\n",
            "drwxr-xr-x  303 root root 12288 Feb 26 13:19 test\n",
            "drwxr-xr-x 2918 root root 86016 Feb 26 13:20 train\n",
            "drwxr-xr-x  413 root root 16384 Feb 26 13:20 valid\n"
          ]
        }
      ]
    },
    {
      "cell_type": "code",
      "source": [
        "import cv2 # OpenCV for video processing"
      ],
      "metadata": {
        "id": "WhafGBiAxKRB"
      },
      "execution_count": null,
      "outputs": []
    },
    {
      "cell_type": "code",
      "source": [
        "!ls ./soccer_extract_data/test/\n"
      ],
      "metadata": {
        "colab": {
          "base_uri": "https://localhost:8080/"
        },
        "id": "qZd2GV0sy-w1",
        "outputId": "a2befaa5-7cf7-4b47-b79c-eb7b5dc290d8"
      },
      "execution_count": null,
      "outputs": [
        {
          "output_type": "stream",
          "name": "stdout",
          "text": [
            "action_0    action_132\taction_167  action_200\taction_235  action_27\taction_33  action_68\n",
            "action_1    action_133\taction_168  action_201\taction_236  action_270\taction_34  action_69\n",
            "action_10   action_134\taction_169  action_202\taction_237  action_271\taction_35  action_7\n",
            "action_100  action_135\taction_17   action_203\taction_238  action_272\taction_36  action_70\n",
            "action_101  action_136\taction_170  action_204\taction_239  action_273\taction_37  action_71\n",
            "action_102  action_137\taction_171  action_205\taction_24   action_274\taction_38  action_72\n",
            "action_103  action_138\taction_172  action_206\taction_240  action_275\taction_39  action_73\n",
            "action_104  action_139\taction_173  action_207\taction_241  action_276\taction_4   action_74\n",
            "action_105  action_14\taction_174  action_208\taction_242  action_277\taction_40  action_75\n",
            "action_106  action_140\taction_175  action_209\taction_243  action_278\taction_41  action_76\n",
            "action_107  action_141\taction_176  action_21\taction_244  action_279\taction_42  action_77\n",
            "action_108  action_142\taction_177  action_210\taction_245  action_28\taction_43  action_78\n",
            "action_109  action_143\taction_178  action_211\taction_246  action_280\taction_44  action_79\n",
            "action_11   action_144\taction_179  action_212\taction_247  action_281\taction_45  action_8\n",
            "action_110  action_145\taction_18   action_213\taction_248  action_282\taction_46  action_80\n",
            "action_111  action_146\taction_180  action_214\taction_249  action_283\taction_47  action_81\n",
            "action_112  action_147\taction_181  action_215\taction_25   action_284\taction_48  action_82\n",
            "action_113  action_148\taction_182  action_216\taction_250  action_285\taction_49  action_83\n",
            "action_114  action_149\taction_183  action_217\taction_251  action_286\taction_5   action_84\n",
            "action_115  action_15\taction_184  action_218\taction_252  action_287\taction_50  action_85\n",
            "action_116  action_150\taction_185  action_219\taction_253  action_288\taction_51  action_86\n",
            "action_117  action_151\taction_186  action_22\taction_254  action_289\taction_52  action_87\n",
            "action_118  action_152\taction_187  action_220\taction_255  action_29\taction_53  action_88\n",
            "action_119  action_153\taction_188  action_221\taction_256  action_290\taction_54  action_89\n",
            "action_12   action_154\taction_189  action_222\taction_257  action_291\taction_55  action_9\n",
            "action_120  action_155\taction_19   action_223\taction_258  action_292\taction_56  action_90\n",
            "action_121  action_156\taction_190  action_224\taction_259  action_293\taction_57  action_91\n",
            "action_122  action_157\taction_191  action_225\taction_26   action_294\taction_58  action_92\n",
            "action_123  action_158\taction_192  action_226\taction_260  action_295\taction_59  action_93\n",
            "action_124  action_159\taction_193  action_227\taction_261  action_296\taction_6   action_94\n",
            "action_125  action_16\taction_194  action_228\taction_262  action_297\taction_60  action_95\n",
            "action_126  action_160\taction_195  action_229\taction_263  action_298\taction_61  action_96\n",
            "action_127  action_161\taction_196  action_23\taction_264  action_299\taction_62  action_97\n",
            "action_128  action_162\taction_197  action_230\taction_265  action_3\taction_63  action_98\n",
            "action_129  action_163\taction_198  action_231\taction_266  action_30\taction_64  action_99\n",
            "action_13   action_164\taction_199  action_232\taction_267  action_300\taction_65  annotations.json\n",
            "action_130  action_165\taction_2    action_233\taction_268  action_31\taction_66\n",
            "action_131  action_166\taction_20   action_234\taction_269  action_32\taction_67\n"
          ]
        }
      ]
    },
    {
      "cell_type": "code",
      "source": [
        "# Path to Video and JSON Annotation\n",
        "video_path = \"./soccer_extract_data/test/action_1.mp4\"  # Replace with actual path\n",
        "json_path = \"./soccer_extract_data/test/annotations.json\"  # Replace with actual path"
      ],
      "metadata": {
        "id": "LUj5tDURyco5"
      },
      "execution_count": null,
      "outputs": []
    },
    {
      "cell_type": "code",
      "source": [
        "# Load JSON Annotations\n",
        "with open(json_path, 'r') as f:\n",
        "    annotations = json.load(f)\n"
      ],
      "metadata": {
        "id": "jw3Z7ZihyhQE"
      },
      "execution_count": null,
      "outputs": []
    },
    {
      "cell_type": "code",
      "source": [
        "# Get the first key of the dictionary\n",
        "first_key = list(annotations.keys())[1]\n",
        "\n",
        "# Access the value associated with the first key\n",
        "first_item = annotations[first_key]\n",
        "\n",
        "# Print the first item\n",
        "print(first_item)"
      ],
      "metadata": {
        "colab": {
          "base_uri": "https://localhost:8080/"
        },
        "id": "1zPqtSgtcEwF",
        "outputId": "c409f0e9-8765-4566-f1da-c6b97cd97baa"
      },
      "execution_count": null,
      "outputs": [
        {
          "output_type": "stream",
          "name": "stdout",
          "text": [
            "301\n"
          ]
        }
      ]
    },
    {
      "cell_type": "code",
      "source": [
        "# Get the first key\n",
        "first_key = list(annotations.keys())[0]\n",
        "\n",
        "# Get the first value using the first key\n",
        "first_value = annotations[first_key]\n",
        "\n",
        "# Print the first key-value pair\n",
        "print((first_key, first_value))"
      ],
      "metadata": {
        "colab": {
          "base_uri": "https://localhost:8080/"
        },
        "id": "-lQQmW77d9tG",
        "outputId": "ed1fd291-e17f-46d6-b79b-5edea25e1df7"
      },
      "execution_count": null,
      "outputs": [
        {
          "output_type": "stream",
          "name": "stdout",
          "text": [
            "('Set', 'test')\n"
          ]
        }
      ]
    },
    {
      "cell_type": "markdown",
      "source": [],
      "metadata": {
        "id": "Z9R1C6STb93j"
      }
    },
    {
      "cell_type": "code",
      "source": [
        "!ls -lt"
      ],
      "metadata": {
        "colab": {
          "base_uri": "https://localhost:8080/"
        },
        "id": "ngmBJ4zJbDzj",
        "outputId": "9ce76e58-d0b3-42d0-aeec-d6e9f30b52ae"
      },
      "execution_count": 42,
      "outputs": [
        {
          "output_type": "stream",
          "name": "stdout",
          "text": [
            "total 18164\n",
            "-rw-r--r-- 1 root root 18581255 Feb 26 15:33 yolov5su.pt\n",
            "drwxr-xr-x 3 root root     4096 Feb 26 13:38 frames\n",
            "drwxr-xr-x 6 root root     4096 Feb 26 13:20 soccer_extract_data\n",
            "drwxr-xr-x 3 root root     4096 Feb 26 13:00 path\n",
            "drwxr-xr-x 1 root root     4096 Feb 21 14:21 sample_data\n"
          ]
        }
      ]
    },
    {
      "cell_type": "code",
      "source": [
        "# Video Processing (Frame Extraction and Saving)\n",
        "def process_video(video_path, output_dir, frame_rate=5):  # Adjust frame rate as needed\n",
        "    \"\"\"Extracts frames from a video and saves them as images.\"\"\"\n",
        "    if not os.path.exists(output_dir):\n",
        "        os.makedirs(output_dir)\n",
        "\n",
        "    video_name = os.path.splitext(os.path.basename(video_path))[0]\n",
        "    output_subdir = os.path.join(output_dir, video_name)\n",
        "    if not os.path.exists(output_subdir):\n",
        "        os.makedirs(output_subdir)\n",
        "\n",
        "    cap = cv2.VideoCapture(video_path)\n",
        "    frame_count = 0\n",
        "    success, frame = cap.read()\n",
        "\n",
        "    while success:\n",
        "        if frame_count % frame_rate == 0: # Extract every 'frame_rate'-th frame\n",
        "            frame_filename = f\"frame_{frame_count:05d}.jpg\"  # Format frame number\n",
        "            frame_path = os.path.join(output_subdir, frame_filename)\n",
        "            cv2.imwrite(frame_path, frame)  # Save the frame\n",
        "\n",
        "        frame_count += 1\n",
        "        success, frame = cap.read() # Read the next frame\n",
        "    cap.release()\n",
        "    print(f\"Extracted frames from {video_path} to {output_subdir}\")\n",
        "    return output_subdir\n"
      ],
      "metadata": {
        "id": "F2vQUJv1zlQa"
      },
      "execution_count": null,
      "outputs": []
    },
    {
      "cell_type": "code",
      "source": [
        "# Accessing Annotations (Example: Foul Events)\n",
        "foul_events = annotations.get('fouls', [])  # Get the list of foul events\n",
        "\n",
        "for foul in foul_events:\n",
        "    start_frame = foul.get('start_frame') # Access start and end frame of the foul\n",
        "    end_frame = foul.get('end_frame')\n",
        "    # ... process foul information (e.g., player IDs, foul type) ...\n",
        "    print(f\"Foul: Start Frame: {start_frame}, End Frame: {end_frame}\")\n",
        "    # Example: Accessing other information\n",
        "    # player1_id = foul.get('player1_id')\n",
        "    # foul_type = foul.get('type')  # If available in the JSON"
      ],
      "metadata": {
        "id": "EP3Zhi2Ez5UG"
      },
      "execution_count": null,
      "outputs": []
    },
    {
      "cell_type": "code",
      "source": [
        "# Creating Labels (Example: Binary Foul/No Foul)\n",
        "# This is a simplified example.  You'll likely need to adapt it\n",
        "# based on how your annotations are structured and what kind of\n",
        "# labels you want to create.\n",
        "\n",
        "# Create a list to hold labels. Initialize to 0 (no foul)\n",
        "num_frames = len(os.listdir(frames_directory))  # Get number of frames in the video\n",
        "labels = [0] * num_frames\n",
        "\n",
        "for foul in foul_events:\n",
        "    start_frame = foul.get('start_frame')\n",
        "    end_frame = foul.get('end_frame')\n",
        "    if start_frame is not None and end_frame is not None:\n",
        "        for i in range(start_frame, end_frame + 1):  # Mark frames as foul (1)\n",
        "            if i < num_frames: # Check to avoid index error\n",
        "                labels[i] = 1\n",
        "\n",
        "# Now 'labels' is a list where each element corresponds to a frame.\n",
        "# 0 means no foul, 1 means foul.\n",
        "print(\"Labels:\", labels)"
      ],
      "metadata": {
        "colab": {
          "base_uri": "https://localhost:8080/"
        },
        "id": "wK6qwseE0VZx",
        "outputId": "ff222464-43b4-479d-df87-a1d525771dc6"
      },
      "execution_count": null,
      "outputs": [
        {
          "output_type": "stream",
          "name": "stdout",
          "text": [
            "Labels: []\n"
          ]
        }
      ]
    },
    {
      "cell_type": "code",
      "source": [
        "!pip install torch torchvision torchaudio ultralytics"
      ],
      "metadata": {
        "colab": {
          "base_uri": "https://localhost:8080/"
        },
        "id": "eROGQwYX20JG",
        "outputId": "2d9fc834-c475-4135-b60c-16d7b6a965c7"
      },
      "execution_count": 31,
      "outputs": [
        {
          "output_type": "stream",
          "name": "stdout",
          "text": [
            "Requirement already satisfied: torch in /usr/local/lib/python3.11/dist-packages (2.5.1+cu124)\n",
            "Requirement already satisfied: torchvision in /usr/local/lib/python3.11/dist-packages (0.20.1+cu124)\n",
            "Requirement already satisfied: torchaudio in /usr/local/lib/python3.11/dist-packages (2.5.1+cu124)\n",
            "Collecting ultralytics\n",
            "  Downloading ultralytics-8.3.80-py3-none-any.whl.metadata (35 kB)\n",
            "Requirement already satisfied: filelock in /usr/local/lib/python3.11/dist-packages (from torch) (3.17.0)\n",
            "Requirement already satisfied: typing-extensions>=4.8.0 in /usr/local/lib/python3.11/dist-packages (from torch) (4.12.2)\n",
            "Requirement already satisfied: networkx in /usr/local/lib/python3.11/dist-packages (from torch) (3.4.2)\n",
            "Requirement already satisfied: jinja2 in /usr/local/lib/python3.11/dist-packages (from torch) (3.1.5)\n",
            "Requirement already satisfied: fsspec in /usr/local/lib/python3.11/dist-packages (from torch) (2024.10.0)\n",
            "Collecting nvidia-cuda-nvrtc-cu12==12.4.127 (from torch)\n",
            "  Downloading nvidia_cuda_nvrtc_cu12-12.4.127-py3-none-manylinux2014_x86_64.whl.metadata (1.5 kB)\n",
            "Collecting nvidia-cuda-runtime-cu12==12.4.127 (from torch)\n",
            "  Downloading nvidia_cuda_runtime_cu12-12.4.127-py3-none-manylinux2014_x86_64.whl.metadata (1.5 kB)\n",
            "Collecting nvidia-cuda-cupti-cu12==12.4.127 (from torch)\n",
            "  Downloading nvidia_cuda_cupti_cu12-12.4.127-py3-none-manylinux2014_x86_64.whl.metadata (1.6 kB)\n",
            "Collecting nvidia-cudnn-cu12==9.1.0.70 (from torch)\n",
            "  Downloading nvidia_cudnn_cu12-9.1.0.70-py3-none-manylinux2014_x86_64.whl.metadata (1.6 kB)\n",
            "Collecting nvidia-cublas-cu12==12.4.5.8 (from torch)\n",
            "  Downloading nvidia_cublas_cu12-12.4.5.8-py3-none-manylinux2014_x86_64.whl.metadata (1.5 kB)\n",
            "Collecting nvidia-cufft-cu12==11.2.1.3 (from torch)\n",
            "  Downloading nvidia_cufft_cu12-11.2.1.3-py3-none-manylinux2014_x86_64.whl.metadata (1.5 kB)\n",
            "Collecting nvidia-curand-cu12==10.3.5.147 (from torch)\n",
            "  Downloading nvidia_curand_cu12-10.3.5.147-py3-none-manylinux2014_x86_64.whl.metadata (1.5 kB)\n",
            "Collecting nvidia-cusolver-cu12==11.6.1.9 (from torch)\n",
            "  Downloading nvidia_cusolver_cu12-11.6.1.9-py3-none-manylinux2014_x86_64.whl.metadata (1.6 kB)\n",
            "Collecting nvidia-cusparse-cu12==12.3.1.170 (from torch)\n",
            "  Downloading nvidia_cusparse_cu12-12.3.1.170-py3-none-manylinux2014_x86_64.whl.metadata (1.6 kB)\n",
            "Requirement already satisfied: nvidia-nccl-cu12==2.21.5 in /usr/local/lib/python3.11/dist-packages (from torch) (2.21.5)\n",
            "Requirement already satisfied: nvidia-nvtx-cu12==12.4.127 in /usr/local/lib/python3.11/dist-packages (from torch) (12.4.127)\n",
            "Collecting nvidia-nvjitlink-cu12==12.4.127 (from torch)\n",
            "  Downloading nvidia_nvjitlink_cu12-12.4.127-py3-none-manylinux2014_x86_64.whl.metadata (1.5 kB)\n",
            "Requirement already satisfied: triton==3.1.0 in /usr/local/lib/python3.11/dist-packages (from torch) (3.1.0)\n",
            "Requirement already satisfied: sympy==1.13.1 in /usr/local/lib/python3.11/dist-packages (from torch) (1.13.1)\n",
            "Requirement already satisfied: mpmath<1.4,>=1.1.0 in /usr/local/lib/python3.11/dist-packages (from sympy==1.13.1->torch) (1.3.0)\n",
            "Requirement already satisfied: numpy in /usr/local/lib/python3.11/dist-packages (from torchvision) (1.26.4)\n",
            "Requirement already satisfied: pillow!=8.3.*,>=5.3.0 in /usr/local/lib/python3.11/dist-packages (from torchvision) (11.1.0)\n",
            "Requirement already satisfied: matplotlib>=3.3.0 in /usr/local/lib/python3.11/dist-packages (from ultralytics) (3.10.0)\n",
            "Requirement already satisfied: opencv-python>=4.6.0 in /usr/local/lib/python3.11/dist-packages (from ultralytics) (4.11.0.86)\n",
            "Requirement already satisfied: pyyaml>=5.3.1 in /usr/local/lib/python3.11/dist-packages (from ultralytics) (6.0.2)\n",
            "Requirement already satisfied: requests>=2.23.0 in /usr/local/lib/python3.11/dist-packages (from ultralytics) (2.32.3)\n",
            "Requirement already satisfied: scipy>=1.4.1 in /usr/local/lib/python3.11/dist-packages (from ultralytics) (1.13.1)\n",
            "Requirement already satisfied: tqdm>=4.64.0 in /usr/local/lib/python3.11/dist-packages (from ultralytics) (4.67.1)\n",
            "Requirement already satisfied: psutil in /usr/local/lib/python3.11/dist-packages (from ultralytics) (5.9.5)\n",
            "Requirement already satisfied: py-cpuinfo in /usr/local/lib/python3.11/dist-packages (from ultralytics) (9.0.0)\n",
            "Requirement already satisfied: pandas>=1.1.4 in /usr/local/lib/python3.11/dist-packages (from ultralytics) (2.2.2)\n",
            "Requirement already satisfied: seaborn>=0.11.0 in /usr/local/lib/python3.11/dist-packages (from ultralytics) (0.13.2)\n",
            "Collecting ultralytics-thop>=2.0.0 (from ultralytics)\n",
            "  Downloading ultralytics_thop-2.0.14-py3-none-any.whl.metadata (9.4 kB)\n",
            "Requirement already satisfied: contourpy>=1.0.1 in /usr/local/lib/python3.11/dist-packages (from matplotlib>=3.3.0->ultralytics) (1.3.1)\n",
            "Requirement already satisfied: cycler>=0.10 in /usr/local/lib/python3.11/dist-packages (from matplotlib>=3.3.0->ultralytics) (0.12.1)\n",
            "Requirement already satisfied: fonttools>=4.22.0 in /usr/local/lib/python3.11/dist-packages (from matplotlib>=3.3.0->ultralytics) (4.56.0)\n",
            "Requirement already satisfied: kiwisolver>=1.3.1 in /usr/local/lib/python3.11/dist-packages (from matplotlib>=3.3.0->ultralytics) (1.4.8)\n",
            "Requirement already satisfied: packaging>=20.0 in /usr/local/lib/python3.11/dist-packages (from matplotlib>=3.3.0->ultralytics) (24.2)\n",
            "Requirement already satisfied: pyparsing>=2.3.1 in /usr/local/lib/python3.11/dist-packages (from matplotlib>=3.3.0->ultralytics) (3.2.1)\n",
            "Requirement already satisfied: python-dateutil>=2.7 in /usr/local/lib/python3.11/dist-packages (from matplotlib>=3.3.0->ultralytics) (2.8.2)\n",
            "Requirement already satisfied: pytz>=2020.1 in /usr/local/lib/python3.11/dist-packages (from pandas>=1.1.4->ultralytics) (2025.1)\n",
            "Requirement already satisfied: tzdata>=2022.7 in /usr/local/lib/python3.11/dist-packages (from pandas>=1.1.4->ultralytics) (2025.1)\n",
            "Requirement already satisfied: charset-normalizer<4,>=2 in /usr/local/lib/python3.11/dist-packages (from requests>=2.23.0->ultralytics) (3.4.1)\n",
            "Requirement already satisfied: idna<4,>=2.5 in /usr/local/lib/python3.11/dist-packages (from requests>=2.23.0->ultralytics) (3.10)\n",
            "Requirement already satisfied: urllib3<3,>=1.21.1 in /usr/local/lib/python3.11/dist-packages (from requests>=2.23.0->ultralytics) (2.3.0)\n",
            "Requirement already satisfied: certifi>=2017.4.17 in /usr/local/lib/python3.11/dist-packages (from requests>=2.23.0->ultralytics) (2025.1.31)\n",
            "Requirement already satisfied: MarkupSafe>=2.0 in /usr/local/lib/python3.11/dist-packages (from jinja2->torch) (3.0.2)\n",
            "Requirement already satisfied: six>=1.5 in /usr/local/lib/python3.11/dist-packages (from python-dateutil>=2.7->matplotlib>=3.3.0->ultralytics) (1.17.0)\n",
            "Downloading nvidia_cublas_cu12-12.4.5.8-py3-none-manylinux2014_x86_64.whl (363.4 MB)\n",
            "\u001b[2K   \u001b[90m━━━━━━━━━━━━━━━━━━━━━━━━━━━━━━━━━━━━━━━━\u001b[0m \u001b[32m363.4/363.4 MB\u001b[0m \u001b[31m1.3 MB/s\u001b[0m eta \u001b[36m0:00:00\u001b[0m\n",
            "\u001b[?25hDownloading nvidia_cuda_cupti_cu12-12.4.127-py3-none-manylinux2014_x86_64.whl (13.8 MB)\n",
            "\u001b[2K   \u001b[90m━━━━━━━━━━━━━━━━━━━━━━━━━━━━━━━━━━━━━━━━\u001b[0m \u001b[32m13.8/13.8 MB\u001b[0m \u001b[31m91.3 MB/s\u001b[0m eta \u001b[36m0:00:00\u001b[0m\n",
            "\u001b[?25hDownloading nvidia_cuda_nvrtc_cu12-12.4.127-py3-none-manylinux2014_x86_64.whl (24.6 MB)\n",
            "\u001b[2K   \u001b[90m━━━━━━━━━━━━━━━━━━━━━━━━━━━━━━━━━━━━━━━━\u001b[0m \u001b[32m24.6/24.6 MB\u001b[0m \u001b[31m85.5 MB/s\u001b[0m eta \u001b[36m0:00:00\u001b[0m\n",
            "\u001b[?25hDownloading nvidia_cuda_runtime_cu12-12.4.127-py3-none-manylinux2014_x86_64.whl (883 kB)\n",
            "\u001b[2K   \u001b[90m━━━━━━━━━━━━━━━━━━━━━━━━━━━━━━━━━━━━━━━━\u001b[0m \u001b[32m883.7/883.7 kB\u001b[0m \u001b[31m44.9 MB/s\u001b[0m eta \u001b[36m0:00:00\u001b[0m\n",
            "\u001b[?25hDownloading nvidia_cudnn_cu12-9.1.0.70-py3-none-manylinux2014_x86_64.whl (664.8 MB)\n",
            "\u001b[2K   \u001b[90m━━━━━━━━━━━━━━━━━━━━━━━━━━━━━━━━━━━━━━━━\u001b[0m \u001b[32m664.8/664.8 MB\u001b[0m \u001b[31m1.0 MB/s\u001b[0m eta \u001b[36m0:00:00\u001b[0m\n",
            "\u001b[?25hDownloading nvidia_cufft_cu12-11.2.1.3-py3-none-manylinux2014_x86_64.whl (211.5 MB)\n",
            "\u001b[2K   \u001b[90m━━━━━━━━━━━━━━━━━━━━━━━━━━━━━━━━━━━━━━━━\u001b[0m \u001b[32m211.5/211.5 MB\u001b[0m \u001b[31m4.1 MB/s\u001b[0m eta \u001b[36m0:00:00\u001b[0m\n",
            "\u001b[?25hDownloading nvidia_curand_cu12-10.3.5.147-py3-none-manylinux2014_x86_64.whl (56.3 MB)\n",
            "\u001b[2K   \u001b[90m━━━━━━━━━━━━━━━━━━━━━━━━━━━━━━━━━━━━━━━━\u001b[0m \u001b[32m56.3/56.3 MB\u001b[0m \u001b[31m12.6 MB/s\u001b[0m eta \u001b[36m0:00:00\u001b[0m\n",
            "\u001b[?25hDownloading nvidia_cusolver_cu12-11.6.1.9-py3-none-manylinux2014_x86_64.whl (127.9 MB)\n",
            "\u001b[2K   \u001b[90m━━━━━━━━━━━━━━━━━━━━━━━━━━━━━━━━━━━━━━━━\u001b[0m \u001b[32m127.9/127.9 MB\u001b[0m \u001b[31m6.9 MB/s\u001b[0m eta \u001b[36m0:00:00\u001b[0m\n",
            "\u001b[?25hDownloading nvidia_cusparse_cu12-12.3.1.170-py3-none-manylinux2014_x86_64.whl (207.5 MB)\n",
            "\u001b[2K   \u001b[90m━━━━━━━━━━━━━━━━━━━━━━━━━━━━━━━━━━━━━━━━\u001b[0m \u001b[32m207.5/207.5 MB\u001b[0m \u001b[31m3.9 MB/s\u001b[0m eta \u001b[36m0:00:00\u001b[0m\n",
            "\u001b[?25hDownloading nvidia_nvjitlink_cu12-12.4.127-py3-none-manylinux2014_x86_64.whl (21.1 MB)\n",
            "\u001b[2K   \u001b[90m━━━━━━━━━━━━━━━━━━━━━━━━━━━━━━━━━━━━━━━━\u001b[0m \u001b[32m21.1/21.1 MB\u001b[0m \u001b[31m85.6 MB/s\u001b[0m eta \u001b[36m0:00:00\u001b[0m\n",
            "\u001b[?25hDownloading ultralytics-8.3.80-py3-none-any.whl (921 kB)\n",
            "\u001b[2K   \u001b[90m━━━━━━━━━━━━━━━━━━━━━━━━━━━━━━━━━━━━━━━━\u001b[0m \u001b[32m921.9/921.9 kB\u001b[0m \u001b[31m44.8 MB/s\u001b[0m eta \u001b[36m0:00:00\u001b[0m\n",
            "\u001b[?25hDownloading ultralytics_thop-2.0.14-py3-none-any.whl (26 kB)\n",
            "Installing collected packages: nvidia-nvjitlink-cu12, nvidia-curand-cu12, nvidia-cufft-cu12, nvidia-cuda-runtime-cu12, nvidia-cuda-nvrtc-cu12, nvidia-cuda-cupti-cu12, nvidia-cublas-cu12, nvidia-cusparse-cu12, nvidia-cudnn-cu12, nvidia-cusolver-cu12, ultralytics-thop, ultralytics\n",
            "  Attempting uninstall: nvidia-nvjitlink-cu12\n",
            "    Found existing installation: nvidia-nvjitlink-cu12 12.5.82\n",
            "    Uninstalling nvidia-nvjitlink-cu12-12.5.82:\n",
            "      Successfully uninstalled nvidia-nvjitlink-cu12-12.5.82\n",
            "  Attempting uninstall: nvidia-curand-cu12\n",
            "    Found existing installation: nvidia-curand-cu12 10.3.6.82\n",
            "    Uninstalling nvidia-curand-cu12-10.3.6.82:\n",
            "      Successfully uninstalled nvidia-curand-cu12-10.3.6.82\n",
            "  Attempting uninstall: nvidia-cufft-cu12\n",
            "    Found existing installation: nvidia-cufft-cu12 11.2.3.61\n",
            "    Uninstalling nvidia-cufft-cu12-11.2.3.61:\n",
            "      Successfully uninstalled nvidia-cufft-cu12-11.2.3.61\n",
            "  Attempting uninstall: nvidia-cuda-runtime-cu12\n",
            "    Found existing installation: nvidia-cuda-runtime-cu12 12.5.82\n",
            "    Uninstalling nvidia-cuda-runtime-cu12-12.5.82:\n",
            "      Successfully uninstalled nvidia-cuda-runtime-cu12-12.5.82\n",
            "  Attempting uninstall: nvidia-cuda-nvrtc-cu12\n",
            "    Found existing installation: nvidia-cuda-nvrtc-cu12 12.5.82\n",
            "    Uninstalling nvidia-cuda-nvrtc-cu12-12.5.82:\n",
            "      Successfully uninstalled nvidia-cuda-nvrtc-cu12-12.5.82\n",
            "  Attempting uninstall: nvidia-cuda-cupti-cu12\n",
            "    Found existing installation: nvidia-cuda-cupti-cu12 12.5.82\n",
            "    Uninstalling nvidia-cuda-cupti-cu12-12.5.82:\n",
            "      Successfully uninstalled nvidia-cuda-cupti-cu12-12.5.82\n",
            "  Attempting uninstall: nvidia-cublas-cu12\n",
            "    Found existing installation: nvidia-cublas-cu12 12.5.3.2\n",
            "    Uninstalling nvidia-cublas-cu12-12.5.3.2:\n",
            "      Successfully uninstalled nvidia-cublas-cu12-12.5.3.2\n",
            "  Attempting uninstall: nvidia-cusparse-cu12\n",
            "    Found existing installation: nvidia-cusparse-cu12 12.5.1.3\n",
            "    Uninstalling nvidia-cusparse-cu12-12.5.1.3:\n",
            "      Successfully uninstalled nvidia-cusparse-cu12-12.5.1.3\n",
            "  Attempting uninstall: nvidia-cudnn-cu12\n",
            "    Found existing installation: nvidia-cudnn-cu12 9.3.0.75\n",
            "    Uninstalling nvidia-cudnn-cu12-9.3.0.75:\n",
            "      Successfully uninstalled nvidia-cudnn-cu12-9.3.0.75\n",
            "  Attempting uninstall: nvidia-cusolver-cu12\n",
            "    Found existing installation: nvidia-cusolver-cu12 11.6.3.83\n",
            "    Uninstalling nvidia-cusolver-cu12-11.6.3.83:\n",
            "      Successfully uninstalled nvidia-cusolver-cu12-11.6.3.83\n",
            "Successfully installed nvidia-cublas-cu12-12.4.5.8 nvidia-cuda-cupti-cu12-12.4.127 nvidia-cuda-nvrtc-cu12-12.4.127 nvidia-cuda-runtime-cu12-12.4.127 nvidia-cudnn-cu12-9.1.0.70 nvidia-cufft-cu12-11.2.1.3 nvidia-curand-cu12-10.3.5.147 nvidia-cusolver-cu12-11.6.1.9 nvidia-cusparse-cu12-12.3.1.170 nvidia-nvjitlink-cu12-12.4.127 ultralytics-8.3.80 ultralytics-thop-2.0.14\n"
          ]
        }
      ]
    },
    {
      "cell_type": "code",
      "source": [
        "import cv2\n",
        "import torch\n",
        "from ultralytics import YOLO\n",
        "import numpy as np\n",
        "from sklearn.model_selection import train_test_split\n",
        "from sklearn.linear_model import LogisticRegression # Example model\n",
        "from sklearn.metrics import classification_report, accuracy_score"
      ],
      "metadata": {
        "colab": {
          "base_uri": "https://localhost:8080/"
        },
        "id": "3GbOMShK4Nzy",
        "outputId": "6a0f8a42-dccc-4bff-c08b-684400a56cf5"
      },
      "execution_count": 32,
      "outputs": [
        {
          "output_type": "stream",
          "name": "stdout",
          "text": [
            "Creating new Ultralytics Settings v0.0.6 file ✅ \n",
            "View Ultralytics Settings with 'yolo settings' or at '/root/.config/Ultralytics/settings.json'\n",
            "Update Settings with 'yolo settings key=value', i.e. 'yolo settings runs_dir=path/to/dir'. For help see https://docs.ultralytics.com/quickstart/#ultralytics-settings.\n"
          ]
        }
      ]
    },
    {
      "cell_type": "code",
      "source": [
        "# --- Data Loading and Preprocessing ---\n",
        "def process_video(video_path, json_path, output_dir, frame_rate=5):\n",
        "    \"\"\"Processes a single video and its annotations.\"\"\"\n",
        "    # ... (same video processing as before) ...\n",
        "    with open(json_path, 'r') as f:\n",
        "        annotations = json.load(f)\n",
        "\n",
        "    # Multi-class Label Creation (Example - adapt to your foul types)\n",
        "    num_frames = len(os.listdir(os.path.join(output_dir, os.path.splitext(os.path.basename(video_path))[0])))\n",
        "    labels = [0] * num_frames  # 0: No foul, 1: Foul Type 1, 2: Foul Type 2, ...\n",
        "    foul_events = annotations.get('fouls', [])\n",
        "    for foul in foul_events:\n",
        "        start_frame = foul.get('start_frame')\n",
        "        end_frame = foul.get('end_frame')\n",
        "        foul_type = foul.get('type')  # Assuming 'type' in your JSON (e.g., 1, 2, 3)\n",
        "        if start_frame is not None and end_frame is not None and foul_type is not None:\n",
        "            for i in range(start_frame, end_frame + 1):\n",
        "                if i < num_frames:\n",
        "                    labels[i] = foul_type  # Assign the correct foul type\n",
        "\n",
        "    return output_dir, labels"
      ],
      "metadata": {
        "id": "sZUnGLDw2eWH"
      },
      "execution_count": 33,
      "outputs": []
    },
    {
      "cell_type": "code",
      "source": [
        "# --- Object Detection and Tracking (YOLOv5) ---\n",
        "model = YOLO('yolov5s.pt')  # Load a pre-trained YOLOv5s model (small size)\n",
        "\n",
        "def detect_and_track(image_path):\n",
        "    \"\"\"Performs object detection and tracking on an image.\"\"\"\n",
        "    results = model(image_path)  # Run object detection\n",
        "    detections = []\n",
        "    for *xyxy, conf, cls in results[0].boxes.data:  # Iterate through detections\n",
        "        x1, y1, x2, y2 = map(int, xyxy)  # Convert bounding box to integers\n",
        "        class_id = int(cls)\n",
        "        if class_id == 0:  # Assuming 0 is the class ID for \"person\" (player)\n",
        "            detections.append([x1, y1, x2, y2, conf])  # Add bounding box and confidence\n",
        "        elif class_id == 1: # Assuming 1 is the class ID for \"ball\"\n",
        "            ball_detections.append([x1, y1, x2, y2, conf])\n",
        "\n",
        "    return detections, ball_detections  # Return detections (players)"
      ],
      "metadata": {
        "colab": {
          "base_uri": "https://localhost:8080/"
        },
        "id": "DoyyUSv-4x83",
        "outputId": "40b33942-fd34-4b2f-f0c8-f43928e16a8d"
      },
      "execution_count": 34,
      "outputs": [
        {
          "output_type": "stream",
          "name": "stdout",
          "text": [
            "PRO TIP 💡 Replace 'model=yolov5s.pt' with new 'model=yolov5su.pt'.\n",
            "YOLOv5 'u' models are trained with https://github.com/ultralytics/ultralytics and feature improved performance vs standard YOLOv5 models trained with https://github.com/ultralytics/yolov5.\n",
            "\n",
            "Downloading https://github.com/ultralytics/assets/releases/download/v8.3.0/yolov5su.pt to 'yolov5su.pt'...\n"
          ]
        },
        {
          "output_type": "stream",
          "name": "stderr",
          "text": [
            "100%|██████████| 17.7M/17.7M [00:00<00:00, 28.2MB/s]\n"
          ]
        }
      ]
    },
    {
      "cell_type": "code",
      "source": [
        "# --- Feature Extraction (Example - Adapt as needed) ---\n",
        "def extract_features(image_path, detections):\n",
        "    \"\"\"Extracts features from an image given detections.\"\"\"\n",
        "    img = cv2.imread(image_path)\n",
        "    features = []\n",
        "    for x1, y1, x2, y2, conf in detections:\n",
        "        # Example: Crop the detected player and extract some simple features\n",
        "        player_img = img[y1:y2, x1:x2]\n",
        "        if player_img.size > 0: # Check if the image is valid\n",
        "            mean_color = np.mean(player_img, axis=(0, 1))  # Average color\n",
        "            features.append(mean_color)\n",
        "    return np.array(features)"
      ],
      "metadata": {
        "id": "Jq3BY_Pn5KRu"
      },
      "execution_count": 35,
      "outputs": []
    }
  ]
}